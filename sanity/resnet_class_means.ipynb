{
 "cells": [
  {
   "cell_type": "code",
   "execution_count": 2,
   "id": "c33a3297-82d2-4171-b81b-94aacec65b11",
   "metadata": {},
   "outputs": [],
   "source": [
    "import sys\n",
    "import os\n",
    "import torchvision\n",
    "from torchvision import transforms\n",
    "sys.path.append(os.getcwd()[:-7])\n",
    "from sanity_get_data import get_data, CIFAR10_Wrapper, MNIST_Wrapper\n",
    "from install_packages import install_packages"
   ]
  },
  {
   "cell_type": "code",
   "execution_count": 3,
   "id": "fbee297f-821a-4699-ab6b-64ed0296e6ff",
   "metadata": {
    "collapsed": true,
    "jupyter": {
     "outputs_hidden": true
    },
    "scrolled": true
   },
   "outputs": [
    {
     "name": "stdout",
     "output_type": "stream",
     "text": [
      "\n",
      "scikit-learn\n",
      "\n",
      "numpy\n",
      "\n",
      "matplotlib\n",
      "\n",
      "torch\n",
      "\n",
      "pytorch-lightning\n",
      "\n",
      "wandb\n",
      "\n",
      "einops\n",
      "\n",
      "torchvision\n",
      "\n",
      "pandas\n"
     ]
    }
   ],
   "source": [
    "install_packages()"
   ]
  },
  {
   "cell_type": "code",
   "execution_count": 4,
   "id": "1a214193-ff0a-4f1d-9ed6-df120f1a3159",
   "metadata": {},
   "outputs": [
    {
     "name": "stderr",
     "output_type": "stream",
     "text": [
      "\u001b[34m\u001b[1mwandb\u001b[0m: Using wandb-core as the SDK backend.  Please refer to https://wandb.me/wandb-core for more information.\n",
      "\u001b[34m\u001b[1mwandb\u001b[0m: \u001b[33mWARNING\u001b[0m If you're specifying your api key in code, ensure this code is not shared publicly.\n",
      "\u001b[34m\u001b[1mwandb\u001b[0m: \u001b[33mWARNING\u001b[0m Consider setting the WANDB_API_KEY environment variable, or running `wandb login` from the command line.\n",
      "\u001b[34m\u001b[1mwandb\u001b[0m: No netrc file found, creating one.\n",
      "\u001b[34m\u001b[1mwandb\u001b[0m: Appending key for api.wandb.ai to your netrc file: /home/jovyan/.netrc\n",
      "\u001b[34m\u001b[1mwandb\u001b[0m: Currently logged in as: \u001b[33mjmryan\u001b[0m to \u001b[32mhttps://api.wandb.ai\u001b[0m. Use \u001b[1m`wandb login --relogin`\u001b[0m to force relogin\n"
     ]
    }
   ],
   "source": [
    "import torch\n",
    "import pandas as pd\n",
    "import numpy as np\n",
    "from functools import reduce\n",
    "from einops import rearrange, repeat\n",
    "import matplotlib.pyplot as plt\n",
    "import seaborn as sns\n",
    "from get_grok import get_data\n",
    "import wandb\n",
    "KEY = '8b81e715f744716c02701d1b0a23c4342e62ad45'\n",
    "wandb.login(key = KEY)\n",
    "from helper_process import process_merge, top_x_percent_per_label, bottom_x_percent_per_label"
   ]
  },
  {
   "cell_type": "markdown",
   "id": "7cde5025-090c-46e8-bb1c-2ae8038e3c9d",
   "metadata": {},
   "source": [
    "This notebook will go through traditional CIFAR Resnet18 Experiment and traditional MNIST Resnet18 across 3 seeds (515, 650, 713) with the same initialization hyperparameters."
   ]
  },
  {
   "cell_type": "code",
   "execution_count": 4,
   "id": "e9e4e592-7ad0-4cc0-8815-fa1db7f81149",
   "metadata": {},
   "outputs": [],
   "source": [
    "LABEL_INDEX = -3\n",
    "Y_HAT_INDEX = -2\n",
    "IDX_INDEX = -1"
   ]
  },
  {
   "cell_type": "code",
   "execution_count": 4,
   "id": "e1d7f926-983d-4bbc-a9a1-92e88105fe45",
   "metadata": {},
   "outputs": [],
   "source": [
    "paths = [f'class_means_distance/grok_toy_test_2_data_0.5_train_fraction_0.5_iter_{x}_max_epochs_11/train/train_raw_activations_epoch_' for x in list(range(5))]"
   ]
  },
  {
   "cell_type": "code",
   "execution_count": 5,
   "id": "58b4e5fc-7530-4472-9630-a04e7bd3ed72",
   "metadata": {},
   "outputs": [],
   "source": [
    "def process_merge(paths, epoch, distance_metric = 'l2', normalization = 'none'):\n",
    "    all_dfs = []\n",
    "    for i, path in enumerate(paths):\n",
    "        dat = torch.load(path + str(epoch), map_location=torch.device('cpu'), weights_only=True)\n",
    "        labels = dat[: , LABEL_INDEX]\n",
    "        y_hats = dat[: , Y_HAT_INDEX]\n",
    "        idx = dat[: , IDX_INDEX]\n",
    "        activations = dat[: , :-3]\n",
    "        uniq_labels = np.unique(labels)\n",
    "        \n",
    "        global_mean = activations.mean(axis=0)\n",
    "        ordered_l2 = []\n",
    "        ordered_labels = []\n",
    "        ordered_idx = []\n",
    "        ordered_y_hats = []\n",
    "        \n",
    "        for j in uniq_labels:\n",
    "            labels_indexing = (labels == j)\n",
    "            class_activations = activations[labels_indexing, :]\n",
    "            class_mean = class_activations.mean(axis=0) - global_mean\n",
    "\n",
    "            if normalization == 'class':\n",
    "                class_std = class_activations.std(axis=0) + 0.0001\n",
    "                class_activations = class_activations / repeat(class_std, 'u -> n u', n = class_activations.shape[0])\n",
    "                class_mean = class_mean / class_std\n",
    "                # print(class_std)\n",
    "\n",
    "            elif normalization == 'global':\n",
    "                global_std = activations.std(axis=0) + 0.0001\n",
    "                class_activations = class_activations - repeat(global_mean, 'u -> n u', n = class_activations.shape[0])\n",
    "                class_activations = class_activations / repeat(global_std, 'u -> n u', n = class_activations.shape[0])\n",
    "                class_mean = class_mean / global_std\n",
    "\n",
    "            if distance_metric == 'cosine':\n",
    "                cos_dist = 1 - torch.nn.functional.cosine_similarity(class_activations, repeat(class_mean, 'u -> n u', n = class_activations.shape[0]))\n",
    "                _ = [ordered_l2.append(diff) for diff in cos_dist]\n",
    "            \n",
    "            elif distance_metric == 'l2':\n",
    "                class_diff = class_activations - repeat(class_mean, 'u -> n u', n = class_activations.shape[0])\n",
    "                _ = [ordered_l2.append(torch.linalg.vector_norm(diff)) for diff in class_diff]\n",
    "            \n",
    "            _ = [ordered_labels.append(lab) for lab in labels[labels_indexing]]\n",
    "            _ = [ordered_idx.append(ids) for ids in idx[labels_indexing]]\n",
    "            _ = [ordered_y_hats.append(y_hat) for y_hat in y_hats[labels_indexing]]\n",
    "        \n",
    "        all_together = torch.vstack([torch.tensor(x) for x in [ordered_l2, ordered_labels, ordered_idx, ordered_y_hats]]).T\n",
    "        df = pd.DataFrame(all_together, columns = [f'dist_{i}', f'labels', f'idx', f'y_hats_{i}'])\n",
    "        if i != 0:\n",
    "            df = df.drop(columns=['labels'])\n",
    "        \n",
    "        all_dfs.append(df)\n",
    "    merged_df = reduce(lambda left, right: pd.merge(left, right, on='idx', how='outer'), all_dfs)\n",
    "    return merged_df"
   ]
  },
  {
   "cell_type": "code",
   "execution_count": 6,
   "id": "243b5091-c1d7-4c81-9255-4f08de3a0ba4",
   "metadata": {},
   "outputs": [],
   "source": [
    "def graph_hists(merged_df):\n",
    "    l2_columns = [col for col in merged_df.columns if col.startswith('dist_')]\n",
    "    num_cols = len(l2_columns)\n",
    "    \n",
    "    # Create a grid: 2 rows (general + label-wise), N columns (1 per l2_x)\n",
    "    fig, axes = plt.subplots(2, num_cols, figsize=(5 * num_cols, 10), sharey='row')\n",
    "    \n",
    "    # Row 1: General histograms\n",
    "    for i, col in enumerate(l2_columns):\n",
    "        ax = axes[0, i]\n",
    "        sns.histplot(merged_df[col], bins=30, kde=False, ax=ax, color='skyblue')\n",
    "        ax.set_title(f\"{col} - Overall\")\n",
    "        ax.set_xlabel(\"\")\n",
    "        ax.set_ylabel(\"Count\")\n",
    "    \n",
    "    # Row 2: Label-wise histograms\n",
    "    for i, col in enumerate(l2_columns):\n",
    "        ax = axes[1, i]\n",
    "        for label in sorted(merged_df['labels'].unique()):\n",
    "            subset = merged_df[merged_df['labels'] == label]\n",
    "            sns.histplot(subset[col], bins=30, kde=False, label=f\"Label {label}\", alpha=0.5, ax=ax)\n",
    "        ax.set_title(f\"{col} - By Label\")\n",
    "        ax.set_xlabel(\"Value\")\n",
    "        ax.set_ylabel(\"Count\")\n",
    "        ax.legend()\n",
    "    \n",
    "    plt.tight_layout()\n",
    "    plt.show()\n",
    "    \n",
    "    # Group by 'labels' and calculate mean and std\n",
    "    grouped_stats = merged_df.groupby('labels')[l2_columns].agg(['mean', 'std'])\n",
    "    \n",
    "    # Optional: flatten MultiIndex columns\n",
    "    grouped_stats.columns = [f\"{col}_{stat}\" for col, stat in grouped_stats.columns]\n",
    "    \n",
    "    # Display the result\n",
    "    display(grouped_stats)"
   ]
  },
  {
   "cell_type": "code",
   "execution_count": 7,
   "id": "8a62c14f-4371-4973-a4f3-05c2e178f352",
   "metadata": {},
   "outputs": [],
   "source": [
    "def top_x_percent_per_label(merged_df, percent):\n",
    "    l2_columns = [col for col in merged_df.columns if col.startswith('dist_')]\n",
    "\n",
    "    # List to store the final output\n",
    "    top_10_percent_idxs = []\n",
    "    quant = 1 - percent\n",
    "    \n",
    "    for col in l2_columns:\n",
    "        top_idxs = []\n",
    "        for label in merged_df['labels'].unique():\n",
    "            subset = merged_df[merged_df['labels'] == label]\n",
    "            threshold = subset[col].quantile(quant)\n",
    "            idxs = subset[subset[col] >= threshold]['idx'].to_numpy()\n",
    "            top_idxs.append(idxs)\n",
    "        \n",
    "        # Combine all labels' top idxs into a single array (e.g., union)\n",
    "        combined = np.unique(np.concatenate(top_idxs))\n",
    "        top_10_percent_idxs.append(combined)\n",
    "\n",
    "    union_all = reduce(np.union1d, top_10_percent_idxs)\n",
    "    intersection_all = reduce(np.intersect1d, top_10_percent_idxs)\n",
    "\n",
    "    print(f'Jaccard Similarity: {len(intersection_all)/len(union_all)}')\n",
    "    print(f'Size of Union: {len(union_all)}')\n",
    "    print(f'Size of Intersection: {len(intersection_all)}')\n",
    "    \n",
    "    return top_10_percent_idxs, union_all, intersection_all"
   ]
  },
  {
   "cell_type": "code",
   "execution_count": 8,
   "id": "37b68b28-f447-4700-a37c-e3405389c2f6",
   "metadata": {},
   "outputs": [],
   "source": [
    "def bottom_x_percent_per_label(merged_df, percent):\n",
    "    l2_columns = [col for col in merged_df.columns if col.startswith('dist_')]\n",
    "\n",
    "    # List to store the final output\n",
    "    bottom_10_percent_idxs = []\n",
    "    quant = 1 - percent\n",
    "    \n",
    "    for col in l2_columns:\n",
    "        bottom_idxs = []\n",
    "        for label in merged_df['labels'].unique():\n",
    "            subset = merged_df[merged_df['labels'] == label]\n",
    "            threshold = subset[col].quantile(percent)\n",
    "            idxs = subset[subset[col] <= threshold]['idx'].to_numpy()\n",
    "            bottom_idxs.append(idxs)\n",
    "        \n",
    "        # Combine all labels' top idxs into a single array (e.g., union)\n",
    "        combined = np.unique(np.concatenate(bottom_idxs))\n",
    "        bottom_10_percent_idxs.append(combined)\n",
    "\n",
    "    union_all = reduce(np.union1d, bottom_10_percent_idxs)\n",
    "    intersection_all = reduce(np.intersect1d, bottom_10_percent_idxs)\n",
    "\n",
    "    print(f'Jaccard Similarity: {len(intersection_all)/len(union_all)}')\n",
    "    print(f'Size of Union: {len(union_all)}')\n",
    "    print(f'Size of Intersection: {len(intersection_all)}')\n",
    "    \n",
    "    return bottom_10_percent_idxs, union_all, intersection_all"
   ]
  },
  {
   "cell_type": "markdown",
   "id": "fffa2ccf-415c-4128-a5d1-8389f5b4cafd",
   "metadata": {},
   "source": [
    "# Traditional CIFAR ResNet18"
   ]
  },
  {
   "cell_type": "code",
   "execution_count": 5,
   "id": "a23f7443-5ac4-4b2e-827d-bc2341f8eaa0",
   "metadata": {},
   "outputs": [],
   "source": [
    "paths = [f'class_means_distance/sanity_no_shuffle_data_cifar10_resnet18_seed_{x}_iter_0_max_epochs_400/train/train_raw_activations_epoch_' for x in [515,650,713]]"
   ]
  },
  {
   "cell_type": "markdown",
   "id": "f9c6cc2a-b38c-4014-8537-15035e7d0ecf",
   "metadata": {},
   "source": [
    "## Look at Class Means Across Seeds (Epoch 355)"
   ]
  },
  {
   "cell_type": "markdown",
   "id": "11fc2f3e-8512-459f-8500-eb68c0285cfa",
   "metadata": {},
   "source": [
    "### Unnormalized L2"
   ]
  },
  {
   "cell_type": "code",
   "execution_count": 6,
   "id": "0c55fe2f-e681-466b-a07b-e6738f4cb462",
   "metadata": {},
   "outputs": [],
   "source": [
    "epoch = 355\n",
    "merged_df = process_merge(paths, epoch)"
   ]
  },
  {
   "cell_type": "code",
   "execution_count": 7,
   "id": "a6e81207-3daf-49ff-a7b8-9e42200475a2",
   "metadata": {},
   "outputs": [
    {
     "name": "stdout",
     "output_type": "stream",
     "text": [
      "Jaccard Similarity: 0.05752561071710008\n",
      "Size of Union: 11421\n",
      "Size of Intersection: 657\n"
     ]
    }
   ],
   "source": [
    "top_10_percent_idxs, union_all, intersection_all = top_x_percent_per_label(merged_df, 0.1)"
   ]
  },
  {
   "cell_type": "code",
   "execution_count": 8,
   "id": "153a1f60-ca9c-4133-aead-08927ce089d0",
   "metadata": {},
   "outputs": [
    {
     "name": "stdout",
     "output_type": "stream",
     "text": [
      "Jaccard Similarity: 0.022979139504563234\n",
      "Size of Union: 12272\n",
      "Size of Intersection: 282\n"
     ]
    }
   ],
   "source": [
    "bottom_10_percent_idxs, union_all, intersection_all = bottom_x_percent_per_label(merged_df, 0.1)"
   ]
  },
  {
   "cell_type": "markdown",
   "id": "36fd90ee-617a-40ed-94c7-dd0a7635794b",
   "metadata": {},
   "source": [
    "### Unnormalized Cos"
   ]
  },
  {
   "cell_type": "code",
   "execution_count": 9,
   "id": "f2d94cc1-9c50-4f86-9549-4dd336853530",
   "metadata": {},
   "outputs": [],
   "source": [
    "epoch = 355\n",
    "merged_df = process_merge(paths, epoch, distance_metric = 'cosine')"
   ]
  },
  {
   "cell_type": "code",
   "execution_count": 10,
   "id": "33c44300-e5a1-4a06-a98a-7354bc47e8c7",
   "metadata": {},
   "outputs": [
    {
     "name": "stdout",
     "output_type": "stream",
     "text": [
      "Jaccard Similarity: 0.08763959871285254\n",
      "Size of Union: 10566\n",
      "Size of Intersection: 926\n"
     ]
    }
   ],
   "source": [
    "top_10_percent_idxs, union_all, intersection_all = top_x_percent_per_label(merged_df, 0.1)"
   ]
  },
  {
   "cell_type": "code",
   "execution_count": 11,
   "id": "b5a92e23-ebf4-45a3-a6bc-9ca4423fcc78",
   "metadata": {},
   "outputs": [
    {
     "name": "stdout",
     "output_type": "stream",
     "text": [
      "Jaccard Similarity: 0.07825278810408921\n",
      "Size of Union: 10760\n",
      "Size of Intersection: 842\n"
     ]
    }
   ],
   "source": [
    "bottom_10_percent_idxs, union_all, intersection_all = bottom_x_percent_per_label(merged_df, 0.1)"
   ]
  },
  {
   "cell_type": "markdown",
   "id": "29881ea1-fc05-4996-963f-b297bd1e22ec",
   "metadata": {},
   "source": [
    "# Traditional MNIST ResNet18"
   ]
  },
  {
   "cell_type": "code",
   "execution_count": 26,
   "id": "f0a73e62-35a8-4fb3-8a1b-83631d18b49f",
   "metadata": {},
   "outputs": [],
   "source": [
    "paths = [f'class_means_distance/sanity_no_shuffle_data_mnist_resnet18_seed_{x}_iter_0_max_epochs_400/train/train_raw_activations_epoch_' for x in [515,650,713]]"
   ]
  },
  {
   "cell_type": "markdown",
   "id": "fe326180-7d4d-40cf-b3b9-d822bdc57bbe",
   "metadata": {},
   "source": [
    "## Look at Class Means Across Seeds (Epoch 355)"
   ]
  },
  {
   "cell_type": "markdown",
   "id": "c9709fc2-5143-4b8d-a550-05b51ddee1a2",
   "metadata": {},
   "source": [
    "### Unnormalized L2"
   ]
  },
  {
   "cell_type": "code",
   "execution_count": 27,
   "id": "ea2b8dfe-755b-4811-b039-8933820f27ec",
   "metadata": {},
   "outputs": [],
   "source": [
    "epoch = 355\n",
    "merged_df = process_merge(paths, epoch)"
   ]
  },
  {
   "cell_type": "code",
   "execution_count": 28,
   "id": "266684dc-87dc-44c4-958b-f19ffb1e5bcf",
   "metadata": {},
   "outputs": [
    {
     "name": "stdout",
     "output_type": "stream",
     "text": [
      "Jaccard Similarity: 0.11187720594270704\n",
      "Size of Union: 12183\n",
      "Size of Intersection: 1363\n"
     ]
    }
   ],
   "source": [
    "top_10_percent_idxs, union_all, intersection_all = top_x_percent_per_label(merged_df, 0.1)"
   ]
  },
  {
   "cell_type": "code",
   "execution_count": 29,
   "id": "f91fe108-7306-47eb-b11d-d71233767f35",
   "metadata": {},
   "outputs": [
    {
     "name": "stdout",
     "output_type": "stream",
     "text": [
      "Jaccard Similarity: 0.07908322903629537\n",
      "Size of Union: 12784\n",
      "Size of Intersection: 1011\n"
     ]
    }
   ],
   "source": [
    "bottom_10_percent_idxs, union_all, intersection_all = bottom_x_percent_per_label(merged_df, 0.1)"
   ]
  },
  {
   "cell_type": "markdown",
   "id": "d92bef81-a069-4349-9a5b-81406a406e2f",
   "metadata": {},
   "source": [
    "### Unnormalized Cos"
   ]
  },
  {
   "cell_type": "code",
   "execution_count": 30,
   "id": "3a0c3ec2-a676-4379-aad4-fe182f30d0bd",
   "metadata": {},
   "outputs": [],
   "source": [
    "epoch = 355\n",
    "merged_df = process_merge(paths, epoch, distance_metric = 'cosine')"
   ]
  },
  {
   "cell_type": "code",
   "execution_count": 31,
   "id": "d145b4cf-6745-4ae5-887c-ba8b0302ef17",
   "metadata": {},
   "outputs": [
    {
     "name": "stdout",
     "output_type": "stream",
     "text": [
      "Jaccard Similarity: 0.23353978084802288\n",
      "Size of Union: 10495\n",
      "Size of Intersection: 2451\n"
     ]
    }
   ],
   "source": [
    "top_10_percent_idxs, union_all, intersection_all = top_x_percent_per_label(merged_df, 0.1)"
   ]
  },
  {
   "cell_type": "code",
   "execution_count": 32,
   "id": "bd7e7d76-8bb3-4b76-9c30-d719ae58b4d8",
   "metadata": {},
   "outputs": [
    {
     "name": "stdout",
     "output_type": "stream",
     "text": [
      "Jaccard Similarity: 0.06459948320413436\n",
      "Size of Union: 13158\n",
      "Size of Intersection: 850\n"
     ]
    }
   ],
   "source": [
    "bottom_10_percent_idxs, union_all, intersection_all = bottom_x_percent_per_label(merged_df, 0.1)"
   ]
  }
 ],
 "metadata": {
  "kernelspec": {
   "display_name": "Python 3 (ipykernel)",
   "language": "python",
   "name": "python3"
  },
  "language_info": {
   "codemirror_mode": {
    "name": "ipython",
    "version": 3
   },
   "file_extension": ".py",
   "mimetype": "text/x-python",
   "name": "python",
   "nbconvert_exporter": "python",
   "pygments_lexer": "ipython3",
   "version": "3.12.8"
  }
 },
 "nbformat": 4,
 "nbformat_minor": 5
}
