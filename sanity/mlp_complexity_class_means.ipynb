{
 "cells": [
  {
   "cell_type": "code",
   "execution_count": 84,
   "id": "c33a3297-82d2-4171-b81b-94aacec65b11",
   "metadata": {},
   "outputs": [],
   "source": [
    "import sys\n",
    "import os\n",
    "import torchvision\n",
    "from torchvision import transforms\n",
    "sys.path.append(os.getcwd()[:-7])\n",
    "from sanity_get_data import get_data, CIFAR10_Wrapper, MNIST_Wrapper\n",
    "from install_packages import install_packages"
   ]
  },
  {
   "cell_type": "code",
   "execution_count": 85,
   "id": "fbee297f-821a-4699-ab6b-64ed0296e6ff",
   "metadata": {
    "collapsed": true,
    "jupyter": {
     "outputs_hidden": true,
     "source_hidden": true
    },
    "scrolled": true
   },
   "outputs": [
    {
     "name": "stdout",
     "output_type": "stream",
     "text": [
      "\n",
      "scikit-learn\n",
      "\n",
      "numpy\n",
      "\n",
      "matplotlib\n",
      "\n",
      "torch\n",
      "\n",
      "pytorch-lightning\n",
      "\n",
      "wandb\n",
      "\n",
      "einops\n",
      "\n",
      "torchvision\n",
      "\n",
      "pandas\n"
     ]
    }
   ],
   "source": [
    "install_packages()"
   ]
  },
  {
   "cell_type": "code",
   "execution_count": 174,
   "id": "1a214193-ff0a-4f1d-9ed6-df120f1a3159",
   "metadata": {},
   "outputs": [
    {
     "name": "stderr",
     "output_type": "stream",
     "text": [
      "\u001b[34m\u001b[1mwandb\u001b[0m: \u001b[33mWARNING\u001b[0m If you're specifying your api key in code, ensure this code is not shared publicly.\n",
      "\u001b[34m\u001b[1mwandb\u001b[0m: \u001b[33mWARNING\u001b[0m Consider setting the WANDB_API_KEY environment variable, or running `wandb login` from the command line.\n",
      "\u001b[34m\u001b[1mwandb\u001b[0m: Appending key for api.wandb.ai to your netrc file: /home/jovyan/.netrc\n"
     ]
    },
    {
     "data": {
      "text/plain": [
       "True"
      ]
     },
     "execution_count": 174,
     "metadata": {},
     "output_type": "execute_result"
    }
   ],
   "source": [
    "import torch\n",
    "import torch.nn as nn\n",
    "import pandas as pd\n",
    "import numpy as np\n",
    "from functools import reduce\n",
    "from einops import rearrange, repeat\n",
    "import matplotlib.pyplot as plt\n",
    "import seaborn as sns\n",
    "from get_grok import get_data\n",
    "import wandb\n",
    "KEY = '8b81e715f744716c02701d1b0a23c4342e62ad45'\n",
    "wandb.login(key = KEY)"
   ]
  },
  {
   "cell_type": "markdown",
   "id": "7cde5025-090c-46e8-bb1c-2ae8038e3c9d",
   "metadata": {},
   "source": [
    "This notebook will go through traditional CIFAR Resnet18 Experiment and traditional MNIST Resnet18 across 3 seeds (515, 650, 713) with the same initialization hyperparameters. At the top of each experiment, there will be a confirmation that iteration 0 and 1 of seed 515 have identical class means across epochs to ensure reproducibility."
   ]
  },
  {
   "cell_type": "markdown",
   "id": "576fd12e-b45b-4a4c-b893-9bc44ddbc2c3",
   "metadata": {
    "jp-MarkdownHeadingCollapsed": true
   },
   "source": [
    "### Workhorse Functions"
   ]
  },
  {
   "cell_type": "code",
   "execution_count": 87,
   "id": "e9e4e592-7ad0-4cc0-8815-fa1db7f81149",
   "metadata": {},
   "outputs": [],
   "source": [
    "LABEL_INDEX = -3\n",
    "Y_HAT_INDEX = -2\n",
    "IDX_INDEX = -1"
   ]
  },
  {
   "cell_type": "code",
   "execution_count": 88,
   "id": "e1d7f926-983d-4bbc-a9a1-92e88105fe45",
   "metadata": {},
   "outputs": [],
   "source": [
    "paths = [f'class_means_distance/grok_toy_test_2_data_0.5_train_fraction_0.5_iter_{x}_max_epochs_11/train/train_raw_activations_epoch_' for x in list(range(5))]"
   ]
  },
  {
   "cell_type": "code",
   "execution_count": 89,
   "id": "58b4e5fc-7530-4472-9630-a04e7bd3ed72",
   "metadata": {},
   "outputs": [],
   "source": [
    "def process_merge(paths, epoch, distance_metric = 'l2', normalization = 'none'):\n",
    "    all_dfs = []\n",
    "    for i, path in enumerate(paths):\n",
    "        dat = torch.load(path + str(epoch), map_location=torch.device('cpu'), weights_only=True)\n",
    "        labels = dat[: , LABEL_INDEX]\n",
    "        y_hats = dat[: , Y_HAT_INDEX]\n",
    "        idx = dat[: , IDX_INDEX]\n",
    "        activations = dat[: , :-3]\n",
    "        uniq_labels = np.unique(labels)\n",
    "        \n",
    "        global_mean = activations.mean(axis=0)\n",
    "        ordered_l2 = []\n",
    "        ordered_labels = []\n",
    "        ordered_idx = []\n",
    "        ordered_y_hats = []\n",
    "        \n",
    "        for j in uniq_labels:\n",
    "            labels_indexing = (labels == j)\n",
    "            class_activations = activations[labels_indexing, :]\n",
    "            class_mean = class_activations.mean(axis=0) - global_mean\n",
    "\n",
    "            if normalization == 'class':\n",
    "                class_std = class_activations.std(axis=0) + 0.0001\n",
    "                class_activations = class_activations / repeat(class_std, 'u -> n u', n = class_activations.shape[0])\n",
    "                class_mean = class_mean / class_std\n",
    "                # print(class_std)\n",
    "\n",
    "            elif normalization == 'global':\n",
    "                global_std = activations.std(axis=0) + 0.0001\n",
    "                class_activations = class_activations - repeat(global_mean, 'u -> n u', n = class_activations.shape[0])\n",
    "                class_activations = class_activations / repeat(global_std, 'u -> n u', n = class_activations.shape[0])\n",
    "                class_mean = class_mean / global_std\n",
    "\n",
    "            if distance_metric == 'cosine':\n",
    "                cos_dist = 1 - torch.nn.functional.cosine_similarity(class_activations, repeat(class_mean, 'u -> n u', n = class_activations.shape[0]))\n",
    "                _ = [ordered_l2.append(diff) for diff in cos_dist]\n",
    "            \n",
    "            elif distance_metric == 'l2':\n",
    "                class_diff = class_activations - repeat(class_mean, 'u -> n u', n = class_activations.shape[0])\n",
    "                _ = [ordered_l2.append(torch.linalg.vector_norm(diff)) for diff in class_diff]\n",
    "            \n",
    "            _ = [ordered_labels.append(lab) for lab in labels[labels_indexing]]\n",
    "            _ = [ordered_idx.append(ids) for ids in idx[labels_indexing]]\n",
    "            _ = [ordered_y_hats.append(y_hat) for y_hat in y_hats[labels_indexing]]\n",
    "        \n",
    "        all_together = torch.vstack([torch.tensor(x) for x in [ordered_l2, ordered_labels, ordered_idx, ordered_y_hats]]).T\n",
    "        df = pd.DataFrame(all_together, columns = [f'dist_{i}', f'labels', f'idx', f'y_hats_{i}'])\n",
    "        if i != 0:\n",
    "            df = df.drop(columns=['labels'])\n",
    "        \n",
    "        all_dfs.append(df)\n",
    "    merged_df = reduce(lambda left, right: pd.merge(left, right, on='idx', how='outer'), all_dfs)\n",
    "    return merged_df"
   ]
  },
  {
   "cell_type": "code",
   "execution_count": 90,
   "id": "243b5091-c1d7-4c81-9255-4f08de3a0ba4",
   "metadata": {},
   "outputs": [],
   "source": [
    "def graph_hists(merged_df):\n",
    "    l2_columns = [col for col in merged_df.columns if col.startswith('dist_')]\n",
    "    num_cols = len(l2_columns)\n",
    "    \n",
    "    # Create a grid: 2 rows (general + label-wise), N columns (1 per l2_x)\n",
    "    fig, axes = plt.subplots(2, num_cols, figsize=(5 * num_cols, 10), sharey='row')\n",
    "    \n",
    "    # Row 1: General histograms\n",
    "    for i, col in enumerate(l2_columns):\n",
    "        ax = axes[0, i]\n",
    "        sns.histplot(merged_df[col], bins=30, kde=False, ax=ax, color='skyblue')\n",
    "        ax.set_title(f\"{col} - Overall\")\n",
    "        ax.set_xlabel(\"\")\n",
    "        ax.set_ylabel(\"Count\")\n",
    "    \n",
    "    # Row 2: Label-wise histograms\n",
    "    for i, col in enumerate(l2_columns):\n",
    "        ax = axes[1, i]\n",
    "        for label in sorted(merged_df['labels'].unique()):\n",
    "            subset = merged_df[merged_df['labels'] == label]\n",
    "            sns.histplot(subset[col], bins=30, kde=False, label=f\"Label {label}\", alpha=0.5, ax=ax)\n",
    "        ax.set_title(f\"{col} - By Label\")\n",
    "        ax.set_xlabel(\"Value\")\n",
    "        ax.set_ylabel(\"Count\")\n",
    "        ax.legend()\n",
    "    \n",
    "    plt.tight_layout()\n",
    "    plt.show()\n",
    "    \n",
    "    # Group by 'labels' and calculate mean and std\n",
    "    grouped_stats = merged_df.groupby('labels')[l2_columns].agg(['mean', 'std'])\n",
    "    \n",
    "    # Optional: flatten MultiIndex columns\n",
    "    grouped_stats.columns = [f\"{col}_{stat}\" for col, stat in grouped_stats.columns]\n",
    "    \n",
    "    # Display the result\n",
    "    display(grouped_stats)"
   ]
  },
  {
   "cell_type": "code",
   "execution_count": 91,
   "id": "8a62c14f-4371-4973-a4f3-05c2e178f352",
   "metadata": {},
   "outputs": [],
   "source": [
    "def top_x_percent_per_label(merged_df, percent):\n",
    "    l2_columns = [col for col in merged_df.columns if col.startswith('dist_')]\n",
    "\n",
    "    # List to store the final output\n",
    "    top_10_percent_idxs = []\n",
    "    quant = 1 - percent\n",
    "    \n",
    "    for col in l2_columns:\n",
    "        top_idxs = []\n",
    "        for label in merged_df['labels'].unique():\n",
    "            subset = merged_df[merged_df['labels'] == label]\n",
    "            threshold = subset[col].quantile(quant)\n",
    "            idxs = subset[subset[col] >= threshold]['idx'].to_numpy()\n",
    "            top_idxs.append(idxs)\n",
    "        \n",
    "        # Combine all labels' top idxs into a single array (e.g., union)\n",
    "        combined = np.unique(np.concatenate(top_idxs))\n",
    "        top_10_percent_idxs.append(combined)\n",
    "\n",
    "    union_all = reduce(np.union1d, top_10_percent_idxs)\n",
    "    intersection_all = reduce(np.intersect1d, top_10_percent_idxs)\n",
    "\n",
    "    print(f'Jaccard Similarity: {len(intersection_all)/len(union_all)}')\n",
    "    print(f'Size of Union: {len(union_all)}')\n",
    "    print(f'Size of Intersection: {len(intersection_all)}')\n",
    "    \n",
    "    return top_10_percent_idxs, union_all, intersection_all"
   ]
  },
  {
   "cell_type": "code",
   "execution_count": 92,
   "id": "37b68b28-f447-4700-a37c-e3405389c2f6",
   "metadata": {},
   "outputs": [],
   "source": [
    "def bottom_x_percent_per_label(merged_df, percent):\n",
    "    l2_columns = [col for col in merged_df.columns if col.startswith('dist_')]\n",
    "\n",
    "    # List to store the final output\n",
    "    bottom_10_percent_idxs = []\n",
    "    quant = 1 - percent\n",
    "    \n",
    "    for col in l2_columns:\n",
    "        bottom_idxs = []\n",
    "        for label in merged_df['labels'].unique():\n",
    "            subset = merged_df[merged_df['labels'] == label]\n",
    "            threshold = subset[col].quantile(percent)\n",
    "            idxs = subset[subset[col] <= threshold]['idx'].to_numpy()\n",
    "            bottom_idxs.append(idxs)\n",
    "        \n",
    "        # Combine all labels' top idxs into a single array (e.g., union)\n",
    "        combined = np.unique(np.concatenate(bottom_idxs))\n",
    "        bottom_10_percent_idxs.append(combined)\n",
    "\n",
    "    union_all = reduce(np.union1d, bottom_10_percent_idxs)\n",
    "    intersection_all = reduce(np.intersect1d, bottom_10_percent_idxs)\n",
    "\n",
    "    print(f'Jaccard Similarity: {len(intersection_all)/len(union_all)}')\n",
    "    print(f'Size of Union: {len(union_all)}')\n",
    "    print(f'Size of Intersection: {len(intersection_all)}')\n",
    "    \n",
    "    return bottom_10_percent_idxs, union_all, intersection_all"
   ]
  },
  {
   "cell_type": "markdown",
   "id": "fffa2ccf-415c-4128-a5d1-8389f5b4cafd",
   "metadata": {},
   "source": [
    "# CIFAR Across MLP Complexities"
   ]
  },
  {
   "cell_type": "code",
   "execution_count": 93,
   "id": "727e3b60-5472-4e92-80c0-585b2678bc42",
   "metadata": {},
   "outputs": [],
   "source": [
    "cifar_jaccards_top = []\n",
    "cifar_jaccards_bottom = []"
   ]
  },
  {
   "cell_type": "markdown",
   "id": "b3327210-b38c-4886-ad96-bd36eb45679c",
   "metadata": {},
   "source": [
    "## 2 Hidden Layers"
   ]
  },
  {
   "cell_type": "code",
   "execution_count": 94,
   "id": "a23f7443-5ac4-4b2e-827d-bc2341f8eaa0",
   "metadata": {},
   "outputs": [],
   "source": [
    "paths = [f'class_means_distance/low_complexity_2_data_cifar10_mlp_seed_{x}_iter_0_max_epochs_400/train/train_raw_activations_epoch_' for x in [515,650,713]]"
   ]
  },
  {
   "cell_type": "markdown",
   "id": "f9c6cc2a-b38c-4014-8537-15035e7d0ecf",
   "metadata": {},
   "source": [
    "## Look at Class Means Across Seeds (Epoch 355)"
   ]
  },
  {
   "cell_type": "markdown",
   "id": "11fc2f3e-8512-459f-8500-eb68c0285cfa",
   "metadata": {},
   "source": [
    "### Unnormalized L2"
   ]
  },
  {
   "cell_type": "code",
   "execution_count": 95,
   "id": "0c55fe2f-e681-466b-a07b-e6738f4cb462",
   "metadata": {},
   "outputs": [],
   "source": [
    "epoch = 355\n",
    "merged_df = process_merge(paths, epoch)"
   ]
  },
  {
   "cell_type": "code",
   "execution_count": 97,
   "id": "a6e81207-3daf-49ff-a7b8-9e42200475a2",
   "metadata": {},
   "outputs": [
    {
     "name": "stdout",
     "output_type": "stream",
     "text": [
      "Jaccard Similarity: 0.6221183298403998\n",
      "Size of Union: 6203\n",
      "Size of Intersection: 3859\n"
     ]
    }
   ],
   "source": [
    "top_10_percent_idxs, union_all, intersection_all = top_x_percent_per_label(merged_df, 0.1)\n",
    "cifar_jaccards_top.append(len(intersection_all)/len(union_all))"
   ]
  },
  {
   "cell_type": "code",
   "execution_count": 98,
   "id": "153a1f60-ca9c-4133-aead-08927ce089d0",
   "metadata": {},
   "outputs": [
    {
     "name": "stdout",
     "output_type": "stream",
     "text": [
      "Jaccard Similarity: 0.6335865524486827\n",
      "Size of Union: 6187\n",
      "Size of Intersection: 3920\n"
     ]
    }
   ],
   "source": [
    "bottom_10_percent_idxs, union_all, intersection_all = bottom_x_percent_per_label(merged_df, 0.1)\n",
    "cifar_jaccards_bottom.append(len(intersection_all)/len(union_all))"
   ]
  },
  {
   "cell_type": "markdown",
   "id": "36fd90ee-617a-40ed-94c7-dd0a7635794b",
   "metadata": {},
   "source": [
    "### Unnormalized Cos"
   ]
  },
  {
   "cell_type": "code",
   "execution_count": 99,
   "id": "f2d94cc1-9c50-4f86-9549-4dd336853530",
   "metadata": {},
   "outputs": [],
   "source": [
    "epoch = 355\n",
    "merged_df = process_merge(paths, epoch, distance_metric = 'cosine')"
   ]
  },
  {
   "cell_type": "code",
   "execution_count": 100,
   "id": "33c44300-e5a1-4a06-a98a-7354bc47e8c7",
   "metadata": {},
   "outputs": [
    {
     "name": "stdout",
     "output_type": "stream",
     "text": [
      "Jaccard Similarity: 0.39371358894458747\n",
      "Size of Union: 7381\n",
      "Size of Intersection: 2906\n"
     ]
    }
   ],
   "source": [
    "top_10_percent_idxs, union_all, intersection_all = top_x_percent_per_label(merged_df, 0.1)"
   ]
  },
  {
   "cell_type": "code",
   "execution_count": 101,
   "id": "b5a92e23-ebf4-45a3-a6bc-9ca4423fcc78",
   "metadata": {},
   "outputs": [
    {
     "name": "stdout",
     "output_type": "stream",
     "text": [
      "Jaccard Similarity: 0.37593283582089554\n",
      "Size of Union: 7504\n",
      "Size of Intersection: 2821\n"
     ]
    }
   ],
   "source": [
    "bottom_10_percent_idxs, union_all, intersection_all = bottom_x_percent_per_label(merged_df, 0.1)"
   ]
  },
  {
   "cell_type": "markdown",
   "id": "59d13d0b-fce7-4a3b-9819-5196fe4c5717",
   "metadata": {},
   "source": [
    "## 3 Hidden Layers"
   ]
  },
  {
   "cell_type": "code",
   "execution_count": 102,
   "id": "f3422609-3fa9-421e-9374-4de01eb7dcaf",
   "metadata": {},
   "outputs": [],
   "source": [
    "paths = [f'class_means_distance/low_complexity_3_data_cifar10_mlp_seed_{x}_iter_0_max_epochs_400/train/train_raw_activations_epoch_' for x in [515,650,713]]"
   ]
  },
  {
   "cell_type": "markdown",
   "id": "dcc7517d-e6cc-465a-a5bc-a7cb6d8ee2c2",
   "metadata": {},
   "source": [
    "## Look at Class Means Across Seeds (Epoch 355)"
   ]
  },
  {
   "cell_type": "markdown",
   "id": "ecbcc32f-0b40-4c03-b501-cc0d25539aba",
   "metadata": {},
   "source": [
    "### Unnormalized L2"
   ]
  },
  {
   "cell_type": "code",
   "execution_count": 103,
   "id": "2112524c-736b-49a3-a173-da2c63586875",
   "metadata": {},
   "outputs": [],
   "source": [
    "epoch = 355\n",
    "merged_df = process_merge(paths, epoch)"
   ]
  },
  {
   "cell_type": "code",
   "execution_count": 104,
   "id": "3544cc0f-a831-46ac-b9fd-1b6593777424",
   "metadata": {},
   "outputs": [
    {
     "name": "stdout",
     "output_type": "stream",
     "text": [
      "Jaccard Similarity: 0.5177824267782427\n",
      "Size of Union: 6692\n",
      "Size of Intersection: 3465\n"
     ]
    }
   ],
   "source": [
    "top_10_percent_idxs, union_all, intersection_all = top_x_percent_per_label(merged_df, 0.1)\n",
    "cifar_jaccards_top.append(len(intersection_all)/len(union_all))"
   ]
  },
  {
   "cell_type": "code",
   "execution_count": 105,
   "id": "bc8e6363-2876-4dfb-acf1-784f8df894b0",
   "metadata": {},
   "outputs": [
    {
     "name": "stdout",
     "output_type": "stream",
     "text": [
      "Jaccard Similarity: 0.54300015167602\n",
      "Size of Union: 6593\n",
      "Size of Intersection: 3580\n"
     ]
    }
   ],
   "source": [
    "bottom_10_percent_idxs, union_all, intersection_all = bottom_x_percent_per_label(merged_df, 0.1)\n",
    "cifar_jaccards_bottom.append(len(intersection_all)/len(union_all))"
   ]
  },
  {
   "cell_type": "markdown",
   "id": "c1b43b90-5df6-4ff5-bce0-338c999da323",
   "metadata": {},
   "source": [
    "### Unnormalized Cos"
   ]
  },
  {
   "cell_type": "code",
   "execution_count": 106,
   "id": "7a0f0ad4-c78b-4534-9c34-661680857ace",
   "metadata": {},
   "outputs": [],
   "source": [
    "epoch = 355\n",
    "merged_df = process_merge(paths, epoch, distance_metric = 'cosine')"
   ]
  },
  {
   "cell_type": "code",
   "execution_count": 107,
   "id": "bbcd0862-1d20-4b9c-b9d1-8592ebbba7c7",
   "metadata": {},
   "outputs": [
    {
     "name": "stdout",
     "output_type": "stream",
     "text": [
      "Jaccard Similarity: 0.2634274145528165\n",
      "Size of Union: 8397\n",
      "Size of Intersection: 2212\n"
     ]
    }
   ],
   "source": [
    "top_10_percent_idxs, union_all, intersection_all = top_x_percent_per_label(merged_df, 0.1)"
   ]
  },
  {
   "cell_type": "code",
   "execution_count": 108,
   "id": "32e01b39-1cc4-44ce-9ca7-9bf4b3060ca3",
   "metadata": {},
   "outputs": [
    {
     "name": "stdout",
     "output_type": "stream",
     "text": [
      "Jaccard Similarity: 0.27206946454413894\n",
      "Size of Union: 8292\n",
      "Size of Intersection: 2256\n"
     ]
    }
   ],
   "source": [
    "bottom_10_percent_idxs, union_all, intersection_all = bottom_x_percent_per_label(merged_df, 0.1)"
   ]
  },
  {
   "cell_type": "markdown",
   "id": "1a107c1e-6aed-4141-b12c-91244be4bab2",
   "metadata": {},
   "source": [
    "## 4 Hidden Layers"
   ]
  },
  {
   "cell_type": "code",
   "execution_count": 109,
   "id": "b60764a5-a6e6-4084-a725-1677f1085191",
   "metadata": {},
   "outputs": [],
   "source": [
    "paths = [f'class_means_distance/low_complexity_4_data_cifar10_mlp_seed_{x}_iter_0_max_epochs_400/train/train_raw_activations_epoch_' for x in [515,650,713]]"
   ]
  },
  {
   "cell_type": "markdown",
   "id": "23eda889-2d41-41cc-bb56-e58fc16fabca",
   "metadata": {},
   "source": [
    "## Look at Class Means Across Seeds (Epoch 355)"
   ]
  },
  {
   "cell_type": "markdown",
   "id": "cb8f3900-a1ce-473e-9ae0-b542ab92f8b0",
   "metadata": {},
   "source": [
    "### Unnormalized L2"
   ]
  },
  {
   "cell_type": "code",
   "execution_count": 110,
   "id": "8118e6e8-8a3c-467d-b52c-7f8b5e2256b8",
   "metadata": {},
   "outputs": [],
   "source": [
    "epoch = 355\n",
    "merged_df = process_merge(paths, epoch)"
   ]
  },
  {
   "cell_type": "code",
   "execution_count": 111,
   "id": "00c56b40-588d-47e7-8aeb-2209e7c0eb9d",
   "metadata": {},
   "outputs": [
    {
     "name": "stdout",
     "output_type": "stream",
     "text": [
      "Jaccard Similarity: 0.4828288707799767\n",
      "Size of Union: 6872\n",
      "Size of Intersection: 3318\n"
     ]
    }
   ],
   "source": [
    "top_10_percent_idxs, union_all, intersection_all = top_x_percent_per_label(merged_df, 0.1)\n",
    "cifar_jaccards_top.append(len(intersection_all)/len(union_all))"
   ]
  },
  {
   "cell_type": "code",
   "execution_count": 112,
   "id": "1fffac4a-eb74-4b4c-bdc0-7f4eecb6b5ba",
   "metadata": {},
   "outputs": [
    {
     "name": "stdout",
     "output_type": "stream",
     "text": [
      "Jaccard Similarity: 0.4702834940279177\n",
      "Size of Union: 6949\n",
      "Size of Intersection: 3268\n"
     ]
    }
   ],
   "source": [
    "bottom_10_percent_idxs, union_all, intersection_all = bottom_x_percent_per_label(merged_df, 0.1)\n",
    "cifar_jaccards_bottom.append(len(intersection_all)/len(union_all))"
   ]
  },
  {
   "cell_type": "markdown",
   "id": "1972741b-99d0-4451-a6d1-48be1746bfdf",
   "metadata": {},
   "source": [
    "### Unnormalized Cos"
   ]
  },
  {
   "cell_type": "code",
   "execution_count": 113,
   "id": "0c83bd48-75fa-4a3b-9e0f-48e4b0510cb9",
   "metadata": {},
   "outputs": [],
   "source": [
    "epoch = 355\n",
    "merged_df = process_merge(paths, epoch, distance_metric = 'cosine')"
   ]
  },
  {
   "cell_type": "code",
   "execution_count": 114,
   "id": "2a0c7e4f-c4b5-4526-b3c3-acf184846761",
   "metadata": {},
   "outputs": [
    {
     "name": "stdout",
     "output_type": "stream",
     "text": [
      "Jaccard Similarity: 0.20237698544929467\n",
      "Size of Union: 9003\n",
      "Size of Intersection: 1822\n"
     ]
    }
   ],
   "source": [
    "top_10_percent_idxs, union_all, intersection_all = top_x_percent_per_label(merged_df, 0.1)"
   ]
  },
  {
   "cell_type": "code",
   "execution_count": 115,
   "id": "0122d733-a71b-4fba-bef1-341fa22ab4a5",
   "metadata": {},
   "outputs": [
    {
     "name": "stdout",
     "output_type": "stream",
     "text": [
      "Jaccard Similarity: 0.2211702977073115\n",
      "Size of Union: 8767\n",
      "Size of Intersection: 1939\n"
     ]
    }
   ],
   "source": [
    "bottom_10_percent_idxs, union_all, intersection_all = bottom_x_percent_per_label(merged_df, 0.1)"
   ]
  },
  {
   "cell_type": "markdown",
   "id": "fd26103f-bf0a-4211-96aa-5a35badc7bb2",
   "metadata": {},
   "source": [
    "## 5 Hidden Layers"
   ]
  },
  {
   "cell_type": "code",
   "execution_count": 116,
   "id": "1f58a8ae-0135-4db0-8e9f-9d48e26257a9",
   "metadata": {},
   "outputs": [],
   "source": [
    "paths = [f'class_means_distance/low_complexity_5_data_cifar10_mlp_seed_{x}_iter_0_max_epochs_400/train/train_raw_activations_epoch_' for x in [515,650,713]]"
   ]
  },
  {
   "cell_type": "markdown",
   "id": "55b16800-5e23-437e-ab34-046b0678c74c",
   "metadata": {},
   "source": [
    "## Look at Class Means Across Seeds (Epoch 355)"
   ]
  },
  {
   "cell_type": "markdown",
   "id": "c69a2707-cf6f-4f33-bdde-bed9f20779bf",
   "metadata": {},
   "source": [
    "### Unnormalized L2"
   ]
  },
  {
   "cell_type": "code",
   "execution_count": 117,
   "id": "bb04fdee-4e37-4417-8964-c43d2840e798",
   "metadata": {},
   "outputs": [],
   "source": [
    "epoch = 355\n",
    "merged_df = process_merge(paths, epoch)"
   ]
  },
  {
   "cell_type": "code",
   "execution_count": 118,
   "id": "da8b774f-98fd-4212-a7fb-a0065cac5fc6",
   "metadata": {},
   "outputs": [
    {
     "name": "stdout",
     "output_type": "stream",
     "text": [
      "Jaccard Similarity: 0.41157822191592003\n",
      "Size of Union: 7255\n",
      "Size of Intersection: 2986\n"
     ]
    }
   ],
   "source": [
    "top_10_percent_idxs, union_all, intersection_all = top_x_percent_per_label(merged_df, 0.1)\n",
    "cifar_jaccards_top.append(len(intersection_all)/len(union_all))"
   ]
  },
  {
   "cell_type": "code",
   "execution_count": 119,
   "id": "9d31a281-4b3a-4808-891d-c5b0dab33ece",
   "metadata": {},
   "outputs": [
    {
     "name": "stdout",
     "output_type": "stream",
     "text": [
      "Jaccard Similarity: 0.3730528558114765\n",
      "Size of Union: 7511\n",
      "Size of Intersection: 2802\n"
     ]
    }
   ],
   "source": [
    "bottom_10_percent_idxs, union_all, intersection_all = bottom_x_percent_per_label(merged_df, 0.1)\n",
    "cifar_jaccards_bottom.append(len(intersection_all)/len(union_all))"
   ]
  },
  {
   "cell_type": "markdown",
   "id": "fa11d8cc-f427-4c9d-85ab-49246afcf799",
   "metadata": {},
   "source": [
    "### Unnormalized Cos"
   ]
  },
  {
   "cell_type": "code",
   "execution_count": 120,
   "id": "52a65937-ee03-4bd3-a73b-c514d513855f",
   "metadata": {},
   "outputs": [],
   "source": [
    "epoch = 355\n",
    "merged_df = process_merge(paths, epoch, distance_metric = 'cosine')"
   ]
  },
  {
   "cell_type": "code",
   "execution_count": 121,
   "id": "e12318c6-2445-4db1-af1a-f0ca488902bf",
   "metadata": {},
   "outputs": [
    {
     "name": "stdout",
     "output_type": "stream",
     "text": [
      "Jaccard Similarity: 0.16920293710758752\n",
      "Size of Union: 9397\n",
      "Size of Intersection: 1590\n"
     ]
    }
   ],
   "source": [
    "top_10_percent_idxs, union_all, intersection_all = top_x_percent_per_label(merged_df, 0.1)"
   ]
  },
  {
   "cell_type": "code",
   "execution_count": 122,
   "id": "d1b9b854-e89e-48b2-9c4f-93be4e798597",
   "metadata": {},
   "outputs": [
    {
     "name": "stdout",
     "output_type": "stream",
     "text": [
      "Jaccard Similarity: 0.1824785861433373\n",
      "Size of Union: 9223\n",
      "Size of Intersection: 1683\n"
     ]
    }
   ],
   "source": [
    "bottom_10_percent_idxs, union_all, intersection_all = bottom_x_percent_per_label(merged_df, 0.1)"
   ]
  },
  {
   "cell_type": "markdown",
   "id": "4b2e60f8-17c2-451d-9cc3-b77472e15d9b",
   "metadata": {},
   "source": [
    "## 6 Hidden Layers"
   ]
  },
  {
   "cell_type": "code",
   "execution_count": 123,
   "id": "e3e15b6d-7e75-42b2-80da-c5b926e6c2c1",
   "metadata": {},
   "outputs": [],
   "source": [
    "paths = [f'class_means_distance/low_complexity_6_data_cifar10_mlp_seed_{x}_iter_0_max_epochs_400/train/train_raw_activations_epoch_' for x in [515,650,713]]"
   ]
  },
  {
   "cell_type": "markdown",
   "id": "f2bf0e6e-8876-4b89-84b4-75ca04f7ddf2",
   "metadata": {},
   "source": [
    "## Look at Class Means Across Seeds (Epoch 355)"
   ]
  },
  {
   "cell_type": "markdown",
   "id": "910037e6-9206-4288-9225-1189b876ab1b",
   "metadata": {},
   "source": [
    "### Unnormalized L2"
   ]
  },
  {
   "cell_type": "code",
   "execution_count": 124,
   "id": "eda427a1-d23b-4d35-a8f3-975915da2bc7",
   "metadata": {},
   "outputs": [],
   "source": [
    "epoch = 355\n",
    "merged_df = process_merge(paths, epoch)"
   ]
  },
  {
   "cell_type": "code",
   "execution_count": 125,
   "id": "3cf7232c-fad5-4b18-9a47-4aa2ca619d0c",
   "metadata": {},
   "outputs": [
    {
     "name": "stdout",
     "output_type": "stream",
     "text": [
      "Jaccard Similarity: 0.3215100076007094\n",
      "Size of Union: 7894\n",
      "Size of Intersection: 2538\n"
     ]
    }
   ],
   "source": [
    "top_10_percent_idxs, union_all, intersection_all = top_x_percent_per_label(merged_df, 0.1)\n",
    "cifar_jaccards_top.append(len(intersection_all)/len(union_all))"
   ]
  },
  {
   "cell_type": "code",
   "execution_count": 126,
   "id": "e4d5498f-650e-4fab-9b05-90d0e3c17f0e",
   "metadata": {},
   "outputs": [
    {
     "name": "stdout",
     "output_type": "stream",
     "text": [
      "Jaccard Similarity: 0.2995157084316404\n",
      "Size of Union: 8053\n",
      "Size of Intersection: 2412\n"
     ]
    }
   ],
   "source": [
    "bottom_10_percent_idxs, union_all, intersection_all = bottom_x_percent_per_label(merged_df, 0.1)\n",
    "cifar_jaccards_bottom.append(len(intersection_all)/len(union_all))"
   ]
  },
  {
   "cell_type": "markdown",
   "id": "bda7e4f2-bfaf-4353-8929-3d3ad951af6b",
   "metadata": {},
   "source": [
    "### Unnormalized Cos"
   ]
  },
  {
   "cell_type": "code",
   "execution_count": 127,
   "id": "bfb47faf-fd94-4cea-a48a-c82c43a0c337",
   "metadata": {},
   "outputs": [],
   "source": [
    "epoch = 355\n",
    "merged_df = process_merge(paths, epoch, distance_metric = 'cosine')"
   ]
  },
  {
   "cell_type": "code",
   "execution_count": 128,
   "id": "86cbacde-ce78-426c-8da3-f4dc3db26d8a",
   "metadata": {},
   "outputs": [
    {
     "name": "stdout",
     "output_type": "stream",
     "text": [
      "Jaccard Similarity: 0.12065217391304348\n",
      "Size of Union: 10120\n",
      "Size of Intersection: 1221\n"
     ]
    }
   ],
   "source": [
    "top_10_percent_idxs, union_all, intersection_all = top_x_percent_per_label(merged_df, 0.1)"
   ]
  },
  {
   "cell_type": "code",
   "execution_count": 129,
   "id": "98fcfbf9-2863-425d-a256-5d601d0a40d8",
   "metadata": {},
   "outputs": [
    {
     "name": "stdout",
     "output_type": "stream",
     "text": [
      "Jaccard Similarity: 0.135046919624643\n",
      "Size of Union: 9804\n",
      "Size of Intersection: 1324\n"
     ]
    }
   ],
   "source": [
    "bottom_10_percent_idxs, union_all, intersection_all = bottom_x_percent_per_label(merged_df, 0.1)"
   ]
  },
  {
   "cell_type": "markdown",
   "id": "29881ea1-fc05-4996-963f-b297bd1e22ec",
   "metadata": {},
   "source": [
    "# MNIST Across MLP Complexities"
   ]
  },
  {
   "cell_type": "code",
   "execution_count": 130,
   "id": "c36e277c-fad7-4cd0-968e-b39eb20f6ee8",
   "metadata": {},
   "outputs": [],
   "source": [
    "mnist_jaccards_top = []\n",
    "mnist_jaccards_bottom = []"
   ]
  },
  {
   "cell_type": "markdown",
   "id": "0c5f5cd5-12ec-42f8-9d4c-5b37cfca99fd",
   "metadata": {},
   "source": [
    "## 2 Hidden Layers"
   ]
  },
  {
   "cell_type": "code",
   "execution_count": 131,
   "id": "55327d4a-492c-408b-be9c-ca67a83a9f1c",
   "metadata": {},
   "outputs": [],
   "source": [
    "paths = [f'class_means_distance/low_complexity_2_data_mnist_mlp_seed_{x}_iter_0_max_epochs_400/train/train_raw_activations_epoch_' for x in [515,650,713]]"
   ]
  },
  {
   "cell_type": "markdown",
   "id": "e9a02027-4b64-4830-b41a-e65588cef1db",
   "metadata": {},
   "source": [
    "## Look at Class Means Across Seeds (Epoch 355)"
   ]
  },
  {
   "cell_type": "markdown",
   "id": "32479d80-ee89-49b2-836a-02090bc5cc68",
   "metadata": {},
   "source": [
    "### Unnormalized L2"
   ]
  },
  {
   "cell_type": "code",
   "execution_count": 132,
   "id": "aad15d2d-fff5-441d-bec4-ee2183d489f7",
   "metadata": {},
   "outputs": [],
   "source": [
    "epoch = 355\n",
    "merged_df = process_merge(paths, epoch)"
   ]
  },
  {
   "cell_type": "code",
   "execution_count": 133,
   "id": "3a937e96-dd63-4526-9bf7-8a417116f145",
   "metadata": {},
   "outputs": [
    {
     "name": "stdout",
     "output_type": "stream",
     "text": [
      "Jaccard Similarity: 0.5126519474075911\n",
      "Size of Union: 8062\n",
      "Size of Intersection: 4133\n"
     ]
    }
   ],
   "source": [
    "top_10_percent_idxs, union_all, intersection_all = top_x_percent_per_label(merged_df, 0.1)\n",
    "mnist_jaccards_top.append(len(intersection_all)/len(union_all))"
   ]
  },
  {
   "cell_type": "code",
   "execution_count": 134,
   "id": "f2ff77f5-cdd8-4692-82d8-9e5af681c068",
   "metadata": {},
   "outputs": [
    {
     "name": "stdout",
     "output_type": "stream",
     "text": [
      "Jaccard Similarity: 0.41901245962159667\n",
      "Size of Union: 8668\n",
      "Size of Intersection: 3632\n"
     ]
    }
   ],
   "source": [
    "bottom_10_percent_idxs, union_all, intersection_all = bottom_x_percent_per_label(merged_df, 0.1)\n",
    "mnist_jaccards_bottom.append(len(intersection_all)/len(union_all))"
   ]
  },
  {
   "cell_type": "markdown",
   "id": "501febc0-c098-4be8-835f-f85dee6b77d4",
   "metadata": {},
   "source": [
    "### Unnormalized Cos"
   ]
  },
  {
   "cell_type": "code",
   "execution_count": 135,
   "id": "ef8846dc-aae9-42a3-a0d6-13b788a595e8",
   "metadata": {},
   "outputs": [],
   "source": [
    "epoch = 355\n",
    "merged_df = process_merge(paths, epoch, distance_metric = 'cosine')"
   ]
  },
  {
   "cell_type": "code",
   "execution_count": 136,
   "id": "f0d34faa-53de-48e0-92f4-d0d6f7121c79",
   "metadata": {},
   "outputs": [
    {
     "name": "stdout",
     "output_type": "stream",
     "text": [
      "Jaccard Similarity: 0.5912917653249145\n",
      "Size of Union: 7602\n",
      "Size of Intersection: 4495\n"
     ]
    }
   ],
   "source": [
    "top_10_percent_idxs, union_all, intersection_all = top_x_percent_per_label(merged_df, 0.1)"
   ]
  },
  {
   "cell_type": "code",
   "execution_count": 137,
   "id": "47c1c30b-6ec1-44a6-b6e8-51e0df494ff0",
   "metadata": {},
   "outputs": [
    {
     "name": "stdout",
     "output_type": "stream",
     "text": [
      "Jaccard Similarity: 0.45082938388625593\n",
      "Size of Union: 8440\n",
      "Size of Intersection: 3805\n"
     ]
    }
   ],
   "source": [
    "bottom_10_percent_idxs, union_all, intersection_all = bottom_x_percent_per_label(merged_df, 0.1)"
   ]
  },
  {
   "cell_type": "markdown",
   "id": "0d69fec3-6b68-4849-b7bd-1255838d0e79",
   "metadata": {},
   "source": [
    "## 3 Hidden Layers"
   ]
  },
  {
   "cell_type": "code",
   "execution_count": 138,
   "id": "4e3a6f2c-0135-4a1d-a7a5-956d5b36e3c8",
   "metadata": {},
   "outputs": [],
   "source": [
    "paths = [f'class_means_distance/low_complexity_3_data_mnist_mlp_seed_{x}_iter_0_max_epochs_400/train/train_raw_activations_epoch_' for x in [515,650,713]]"
   ]
  },
  {
   "cell_type": "markdown",
   "id": "b46ff336-faa6-49f6-8767-6d5289e81efa",
   "metadata": {},
   "source": [
    "## Look at Class Means Across Seeds (Epoch 355)"
   ]
  },
  {
   "cell_type": "markdown",
   "id": "1c308bb7-a1e8-4aee-be0a-104fdae1b7ad",
   "metadata": {},
   "source": [
    "### Unnormalized L2"
   ]
  },
  {
   "cell_type": "code",
   "execution_count": 139,
   "id": "39c0bf77-c166-4a6e-9f42-6c28d5ceddf0",
   "metadata": {},
   "outputs": [],
   "source": [
    "epoch = 355\n",
    "merged_df = process_merge(paths, epoch)"
   ]
  },
  {
   "cell_type": "code",
   "execution_count": 140,
   "id": "cd208580-ce78-43e2-bf7e-1ce8091b4028",
   "metadata": {},
   "outputs": [
    {
     "name": "stdout",
     "output_type": "stream",
     "text": [
      "Jaccard Similarity: 0.462850327966607\n",
      "Size of Union: 8385\n",
      "Size of Intersection: 3881\n"
     ]
    }
   ],
   "source": [
    "top_10_percent_idxs, union_all, intersection_all = top_x_percent_per_label(merged_df, 0.1)\n",
    "mnist_jaccards_top.append(len(intersection_all)/len(union_all))"
   ]
  },
  {
   "cell_type": "code",
   "execution_count": 141,
   "id": "6315b087-c322-43dc-b219-cb0b13b5e73f",
   "metadata": {},
   "outputs": [
    {
     "name": "stdout",
     "output_type": "stream",
     "text": [
      "Jaccard Similarity: 0.3410642679093963\n",
      "Size of Union: 9227\n",
      "Size of Intersection: 3147\n"
     ]
    }
   ],
   "source": [
    "bottom_10_percent_idxs, union_all, intersection_all = bottom_x_percent_per_label(merged_df, 0.1)\n",
    "mnist_jaccards_bottom.append(len(intersection_all)/len(union_all))"
   ]
  },
  {
   "cell_type": "markdown",
   "id": "01e97e5a-d0e7-499e-ab88-d01261d55d1d",
   "metadata": {},
   "source": [
    "### Unnormalized Cos"
   ]
  },
  {
   "cell_type": "code",
   "execution_count": 142,
   "id": "ba33cc99-d463-4949-a9fb-010c63c24ff8",
   "metadata": {},
   "outputs": [],
   "source": [
    "epoch = 355\n",
    "merged_df = process_merge(paths, epoch, distance_metric = 'cosine')"
   ]
  },
  {
   "cell_type": "code",
   "execution_count": 143,
   "id": "14efb2ae-8cc2-4008-ae53-d97205fbc603",
   "metadata": {},
   "outputs": [
    {
     "name": "stdout",
     "output_type": "stream",
     "text": [
      "Jaccard Similarity: 0.5413040736536764\n",
      "Size of Union: 7929\n",
      "Size of Intersection: 4292\n"
     ]
    }
   ],
   "source": [
    "top_10_percent_idxs, union_all, intersection_all = top_x_percent_per_label(merged_df, 0.1)"
   ]
  },
  {
   "cell_type": "code",
   "execution_count": 144,
   "id": "d7c50ff8-957a-487a-bbf3-9cc65e52f0f8",
   "metadata": {},
   "outputs": [
    {
     "name": "stdout",
     "output_type": "stream",
     "text": [
      "Jaccard Similarity: 0.4178074312665363\n",
      "Size of Union: 8693\n",
      "Size of Intersection: 3632\n"
     ]
    }
   ],
   "source": [
    "bottom_10_percent_idxs, union_all, intersection_all = bottom_x_percent_per_label(merged_df, 0.1)"
   ]
  },
  {
   "cell_type": "markdown",
   "id": "19d14df9-c447-4cd5-985d-bc292b057fed",
   "metadata": {},
   "source": [
    "## 4 Hidden Layers"
   ]
  },
  {
   "cell_type": "code",
   "execution_count": 145,
   "id": "878b81fe-146f-418f-927e-a7f09d6ff388",
   "metadata": {},
   "outputs": [],
   "source": [
    "paths = [f'class_means_distance/low_complexity_4_data_mnist_mlp_seed_{x}_iter_0_max_epochs_400/train/train_raw_activations_epoch_' for x in [515,650,713]]"
   ]
  },
  {
   "cell_type": "markdown",
   "id": "926738d8-a31a-4ce6-b5a1-22665eb9392d",
   "metadata": {},
   "source": [
    "## Look at Class Means Across Seeds (Epoch 355)"
   ]
  },
  {
   "cell_type": "markdown",
   "id": "1d233dd2-bd7b-4fb1-b414-6d110f711474",
   "metadata": {},
   "source": [
    "### Unnormalized L2"
   ]
  },
  {
   "cell_type": "code",
   "execution_count": 146,
   "id": "ff95170b-239a-4da0-a809-7118305b2c2d",
   "metadata": {},
   "outputs": [],
   "source": [
    "epoch = 355\n",
    "merged_df = process_merge(paths, epoch)"
   ]
  },
  {
   "cell_type": "code",
   "execution_count": 147,
   "id": "4f5e101d-1c08-4955-9e88-dbcdda67fd18",
   "metadata": {},
   "outputs": [
    {
     "name": "stdout",
     "output_type": "stream",
     "text": [
      "Jaccard Similarity: 0.4401404330017554\n",
      "Size of Union: 8545\n",
      "Size of Intersection: 3761\n"
     ]
    }
   ],
   "source": [
    "top_10_percent_idxs, union_all, intersection_all = top_x_percent_per_label(merged_df, 0.1)\n",
    "mnist_jaccards_top.append(len(intersection_all)/len(union_all))"
   ]
  },
  {
   "cell_type": "code",
   "execution_count": 148,
   "id": "6e0aad50-4c04-41c0-81c7-20580135bd1e",
   "metadata": {},
   "outputs": [
    {
     "name": "stdout",
     "output_type": "stream",
     "text": [
      "Jaccard Similarity: 0.40840086748088117\n",
      "Size of Union: 8761\n",
      "Size of Intersection: 3578\n"
     ]
    }
   ],
   "source": [
    "bottom_10_percent_idxs, union_all, intersection_all = bottom_x_percent_per_label(merged_df, 0.1)\n",
    "mnist_jaccards_bottom.append(len(intersection_all)/len(union_all))"
   ]
  },
  {
   "cell_type": "markdown",
   "id": "090faad3-6e36-4f5c-93f5-28cdf7e0014c",
   "metadata": {},
   "source": [
    "### Unnormalized Cos"
   ]
  },
  {
   "cell_type": "code",
   "execution_count": 149,
   "id": "2b978a76-4870-40fe-893d-4909f076ec1f",
   "metadata": {},
   "outputs": [],
   "source": [
    "epoch = 355\n",
    "merged_df = process_merge(paths, epoch, distance_metric = 'cosine')"
   ]
  },
  {
   "cell_type": "code",
   "execution_count": 150,
   "id": "0a6b957d-d941-45ab-80f2-00b1c07177dc",
   "metadata": {},
   "outputs": [
    {
     "name": "stdout",
     "output_type": "stream",
     "text": [
      "Jaccard Similarity: 0.45264030310206016\n",
      "Size of Union: 8446\n",
      "Size of Intersection: 3823\n"
     ]
    }
   ],
   "source": [
    "top_10_percent_idxs, union_all, intersection_all = top_x_percent_per_label(merged_df, 0.1)"
   ]
  },
  {
   "cell_type": "code",
   "execution_count": 151,
   "id": "f3636933-502b-4d39-8856-c7c2215f7e7d",
   "metadata": {},
   "outputs": [
    {
     "name": "stdout",
     "output_type": "stream",
     "text": [
      "Jaccard Similarity: 0.3464864864864865\n",
      "Size of Union: 9250\n",
      "Size of Intersection: 3205\n"
     ]
    }
   ],
   "source": [
    "bottom_10_percent_idxs, union_all, intersection_all = bottom_x_percent_per_label(merged_df, 0.1)"
   ]
  },
  {
   "cell_type": "markdown",
   "id": "2a5c2402-9f01-4d04-be31-c710bc76ec28",
   "metadata": {},
   "source": [
    "## 5 Hidden Layers"
   ]
  },
  {
   "cell_type": "code",
   "execution_count": 152,
   "id": "c5e2ff97-50b6-4098-becc-3b158f364896",
   "metadata": {},
   "outputs": [],
   "source": [
    "paths = [f'class_means_distance/low_complexity_5_data_mnist_mlp_seed_{x}_iter_0_max_epochs_400/train/train_raw_activations_epoch_' for x in [515,650,713]]"
   ]
  },
  {
   "cell_type": "markdown",
   "id": "eba2265c-9568-4eaa-b91d-319b0cf8a3de",
   "metadata": {},
   "source": [
    "## Look at Class Means Across Seeds (Epoch 355)"
   ]
  },
  {
   "cell_type": "markdown",
   "id": "ea8fe4c5-7d17-479a-bd92-2ff22d18d520",
   "metadata": {},
   "source": [
    "### Unnormalized L2"
   ]
  },
  {
   "cell_type": "code",
   "execution_count": 153,
   "id": "5b8db238-f5c6-419b-b9b6-a22071f1ba9d",
   "metadata": {},
   "outputs": [],
   "source": [
    "epoch = 355\n",
    "merged_df = process_merge(paths, epoch)"
   ]
  },
  {
   "cell_type": "code",
   "execution_count": 154,
   "id": "4832eaf7-fdcc-4240-87be-a930cf4381a0",
   "metadata": {},
   "outputs": [
    {
     "name": "stdout",
     "output_type": "stream",
     "text": [
      "Jaccard Similarity: 0.4455026455026455\n",
      "Size of Union: 8505\n",
      "Size of Intersection: 3789\n"
     ]
    }
   ],
   "source": [
    "top_10_percent_idxs, union_all, intersection_all = top_x_percent_per_label(merged_df, 0.1)\n",
    "mnist_jaccards_top.append(len(intersection_all)/len(union_all))"
   ]
  },
  {
   "cell_type": "code",
   "execution_count": 155,
   "id": "e1d2e993-b6d6-42cd-9c20-4d7185bc0271",
   "metadata": {},
   "outputs": [
    {
     "name": "stdout",
     "output_type": "stream",
     "text": [
      "Jaccard Similarity: 0.3837170129140932\n",
      "Size of Union: 8905\n",
      "Size of Intersection: 3417\n"
     ]
    }
   ],
   "source": [
    "bottom_10_percent_idxs, union_all, intersection_all = bottom_x_percent_per_label(merged_df, 0.1)\n",
    "mnist_jaccards_bottom.append(len(intersection_all)/len(union_all))"
   ]
  },
  {
   "cell_type": "markdown",
   "id": "37788ca7-b7bf-4ff2-9a60-e1ef5dde9611",
   "metadata": {},
   "source": [
    "### Unnormalized Cos"
   ]
  },
  {
   "cell_type": "code",
   "execution_count": 156,
   "id": "34e80125-4896-41c1-a6eb-f66afe0c9279",
   "metadata": {},
   "outputs": [],
   "source": [
    "epoch = 355\n",
    "merged_df = process_merge(paths, epoch, distance_metric = 'cosine')"
   ]
  },
  {
   "cell_type": "code",
   "execution_count": 157,
   "id": "a5b31d88-c8f4-4cc7-a10c-7a2066539a63",
   "metadata": {},
   "outputs": [
    {
     "name": "stdout",
     "output_type": "stream",
     "text": [
      "Jaccard Similarity: 0.40819578827546954\n",
      "Size of Union: 8785\n",
      "Size of Intersection: 3586\n"
     ]
    }
   ],
   "source": [
    "top_10_percent_idxs, union_all, intersection_all = top_x_percent_per_label(merged_df, 0.1)"
   ]
  },
  {
   "cell_type": "code",
   "execution_count": 158,
   "id": "2f9f8ac2-288b-48a5-b9db-9df15c33e408",
   "metadata": {},
   "outputs": [
    {
     "name": "stdout",
     "output_type": "stream",
     "text": [
      "Jaccard Similarity: 0.2529440870856012\n",
      "Size of Union: 10105\n",
      "Size of Intersection: 2556\n"
     ]
    }
   ],
   "source": [
    "bottom_10_percent_idxs, union_all, intersection_all = bottom_x_percent_per_label(merged_df, 0.1)"
   ]
  },
  {
   "cell_type": "markdown",
   "id": "aa430d54-dd3e-4263-b1cc-38e4434ef819",
   "metadata": {},
   "source": [
    "## 6 Hidden Layers"
   ]
  },
  {
   "cell_type": "code",
   "execution_count": 159,
   "id": "afc699de-670a-4bd1-bac1-129e30dd272b",
   "metadata": {},
   "outputs": [],
   "source": [
    "paths = [f'class_means_distance/low_complexity_6_data_mnist_mlp_seed_{x}_iter_0_max_epochs_400/train/train_raw_activations_epoch_' for x in [515,650,713]]"
   ]
  },
  {
   "cell_type": "markdown",
   "id": "bc99d625-1287-4107-beac-7be4dd957596",
   "metadata": {},
   "source": [
    "## Look at Class Means Across Seeds (Epoch 355)"
   ]
  },
  {
   "cell_type": "markdown",
   "id": "4e9e167c-f369-4ce1-9020-3ce599f1a052",
   "metadata": {},
   "source": [
    "### Unnormalized L2"
   ]
  },
  {
   "cell_type": "code",
   "execution_count": 160,
   "id": "b271ef58-3a81-4a50-ab1a-7cc294b5838d",
   "metadata": {},
   "outputs": [],
   "source": [
    "epoch = 355\n",
    "merged_df = process_merge(paths, epoch)"
   ]
  },
  {
   "cell_type": "code",
   "execution_count": 161,
   "id": "5dda29be-2fdc-4da8-bb82-aaa3ee358230",
   "metadata": {},
   "outputs": [
    {
     "name": "stdout",
     "output_type": "stream",
     "text": [
      "Jaccard Similarity: 0.435268116784925\n",
      "Size of Union: 8597\n",
      "Size of Intersection: 3742\n"
     ]
    }
   ],
   "source": [
    "top_10_percent_idxs, union_all, intersection_all = top_x_percent_per_label(merged_df, 0.1)\n",
    "mnist_jaccards_top.append(len(intersection_all)/len(union_all))"
   ]
  },
  {
   "cell_type": "code",
   "execution_count": 162,
   "id": "8be74d22-4c69-40e9-a0e4-6f24f3f1aa82",
   "metadata": {},
   "outputs": [
    {
     "name": "stdout",
     "output_type": "stream",
     "text": [
      "Jaccard Similarity: 0.41947826086956524\n",
      "Size of Union: 8625\n",
      "Size of Intersection: 3618\n"
     ]
    }
   ],
   "source": [
    "bottom_10_percent_idxs, union_all, intersection_all = bottom_x_percent_per_label(merged_df, 0.1)\n",
    "mnist_jaccards_bottom.append(len(intersection_all)/len(union_all))"
   ]
  },
  {
   "cell_type": "markdown",
   "id": "c829d96b-50ca-4a35-a1e7-9acbd1411087",
   "metadata": {},
   "source": [
    "### Unnormalized Cos"
   ]
  },
  {
   "cell_type": "code",
   "execution_count": 163,
   "id": "4ee4a7e2-c32b-4e48-868e-a5c7a777116b",
   "metadata": {},
   "outputs": [],
   "source": [
    "epoch = 355\n",
    "merged_df = process_merge(paths, epoch, distance_metric = 'cosine')"
   ]
  },
  {
   "cell_type": "code",
   "execution_count": 164,
   "id": "46041cab-4e93-4a5f-9d7c-d35d656ccbae",
   "metadata": {},
   "outputs": [
    {
     "name": "stdout",
     "output_type": "stream",
     "text": [
      "Jaccard Similarity: 0.31007350657417954\n",
      "Size of Union: 9659\n",
      "Size of Intersection: 2995\n"
     ]
    }
   ],
   "source": [
    "top_10_percent_idxs, union_all, intersection_all = top_x_percent_per_label(merged_df, 0.1)"
   ]
  },
  {
   "cell_type": "code",
   "execution_count": 165,
   "id": "b9cf7596-d69c-4d45-a7ba-526e0ae37755",
   "metadata": {},
   "outputs": [
    {
     "name": "stdout",
     "output_type": "stream",
     "text": [
      "Jaccard Similarity: 0.14884932696482847\n",
      "Size of Union: 11515\n",
      "Size of Intersection: 1714\n"
     ]
    }
   ],
   "source": [
    "bottom_10_percent_idxs, union_all, intersection_all = bottom_x_percent_per_label(merged_df, 0.1)"
   ]
  },
  {
   "cell_type": "markdown",
   "id": "4efd1ad4-a479-4c3d-8227-a4f00ce61863",
   "metadata": {},
   "source": [
    "# Analysis"
   ]
  },
  {
   "cell_type": "code",
   "execution_count": 179,
   "id": "339041d3-618f-4430-b0eb-4f4c52962f6a",
   "metadata": {},
   "outputs": [],
   "source": [
    "from scipy.stats import pearsonr"
   ]
  },
  {
   "cell_type": "code",
   "execution_count": 175,
   "id": "e0777e9d-f7ec-4974-b76e-77092579cf08",
   "metadata": {},
   "outputs": [],
   "source": [
    "all_trainable_param_sizes = []\n",
    "\n",
    "for la in [2,3,4,5,6]:\n",
    "    layers = []\n",
    "    layers.append(nn.Linear(32*32*3, 512))\n",
    "    layers.append(nn.ReLU())\n",
    "    for i in range(la):\n",
    "        layers.append(nn.Linear(512, 512))\n",
    "        layers.append(nn.ReLU())\n",
    "    layers.append(nn.Linear(512,10))\n",
    "    model = nn.Sequential(*layers)\n",
    "\n",
    "    trainable = sum(p.numel() for p in model.parameters() if p.requires_grad)\n",
    "    all_trainable_param_sizes.append(trainable)"
   ]
  },
  {
   "cell_type": "code",
   "execution_count": 184,
   "id": "d1f9d451-9f79-43e6-a8db-3ffb3ccd9ed1",
   "metadata": {},
   "outputs": [
    {
     "name": "stdout",
     "output_type": "stream",
     "text": [
      "CIFAR Top 10% of Unnormed L2 Distance to Class Means Correlation with Model Trainable Parameter Size:\n",
      "PearsonRResult(statistic=np.float64(-0.9901667015072153), pvalue=np.float64(0.0011688023385244464))\n"
     ]
    }
   ],
   "source": [
    "print('CIFAR Top 10% of Unnormed L2 Distance to Class Means Correlation with Model Trainable Parameter Size:')\n",
    "print(pearsonr(cifar_jaccards_top, all_trainable_param_sizes))"
   ]
  },
  {
   "cell_type": "code",
   "execution_count": 185,
   "id": "d4b1c668-13de-4156-b095-5d39f3e59613",
   "metadata": {},
   "outputs": [
    {
     "name": "stdout",
     "output_type": "stream",
     "text": [
      "CIFAR Bottom 10% of Unnormed L2 Distance to Class Means Correlation with Model Trainable Parameter Size:\n",
      "PearsonRResult(statistic=np.float64(-0.9990958036279844), pvalue=np.float64(3.263390806716465e-05))\n"
     ]
    }
   ],
   "source": [
    "print('CIFAR Bottom 10% of Unnormed L2 Distance to Class Means Correlation with Model Trainable Parameter Size:')\n",
    "print(pearsonr(cifar_jaccards_bottom, all_trainable_param_sizes))"
   ]
  },
  {
   "cell_type": "code",
   "execution_count": 186,
   "id": "bd0a4576-de30-4b9c-8d7e-6a56c2ed122f",
   "metadata": {},
   "outputs": [
    {
     "name": "stdout",
     "output_type": "stream",
     "text": [
      "MNIST Top 10% of Unnormed L2 Distance to Class Means Correlation with Model Trainable Parameter Size:\n",
      "PearsonRResult(statistic=np.float64(-0.861220610457522), pvalue=np.float64(0.06075298205715873))\n"
     ]
    }
   ],
   "source": [
    "print('MNIST Top 10% of Unnormed L2 Distance to Class Means Correlation with Model Trainable Parameter Size:')\n",
    "print(pearsonr(mnist_jaccards_top, all_trainable_param_sizes))"
   ]
  },
  {
   "cell_type": "code",
   "execution_count": 187,
   "id": "133be1f5-b580-498d-b523-e1e381951be2",
   "metadata": {},
   "outputs": [
    {
     "name": "stdout",
     "output_type": "stream",
     "text": [
      "MNIST Bottom 10% of Unnormed L2 Distance to Class Means Correlation with Model Trainable Parameter Size:\n",
      "PearsonRResult(statistic=np.float64(0.20802807277800647), pvalue=np.float64(0.7370534299562757))\n"
     ]
    }
   ],
   "source": [
    "print('MNIST Bottom 10% of Unnormed L2 Distance to Class Means Correlation with Model Trainable Parameter Size:')\n",
    "print(pearsonr(mnist_jaccards_bottom, all_trainable_param_sizes))"
   ]
  },
  {
   "cell_type": "code",
   "execution_count": 188,
   "id": "72004cbf-19e9-4c8d-a7b7-10fceeeeba3f",
   "metadata": {},
   "outputs": [
    {
     "data": {
      "text/html": [
       "<div>\n",
       "<style scoped>\n",
       "    .dataframe tbody tr th:only-of-type {\n",
       "        vertical-align: middle;\n",
       "    }\n",
       "\n",
       "    .dataframe tbody tr th {\n",
       "        vertical-align: top;\n",
       "    }\n",
       "\n",
       "    .dataframe thead th {\n",
       "        text-align: right;\n",
       "    }\n",
       "</style>\n",
       "<table border=\"1\" class=\"dataframe\">\n",
       "  <thead>\n",
       "    <tr style=\"text-align: right;\">\n",
       "      <th></th>\n",
       "      <th>dist_0</th>\n",
       "      <th>labels</th>\n",
       "      <th>idx</th>\n",
       "      <th>y_hats_0</th>\n",
       "      <th>dist_1</th>\n",
       "      <th>y_hats_1</th>\n",
       "      <th>dist_2</th>\n",
       "      <th>y_hats_2</th>\n",
       "    </tr>\n",
       "  </thead>\n",
       "  <tbody>\n",
       "    <tr>\n",
       "      <th>0</th>\n",
       "      <td>0.243336</td>\n",
       "      <td>5.0</td>\n",
       "      <td>0.0</td>\n",
       "      <td>5.0</td>\n",
       "      <td>0.312373</td>\n",
       "      <td>5.0</td>\n",
       "      <td>0.273135</td>\n",
       "      <td>5.0</td>\n",
       "    </tr>\n",
       "    <tr>\n",
       "      <th>1</th>\n",
       "      <td>0.508444</td>\n",
       "      <td>0.0</td>\n",
       "      <td>1.0</td>\n",
       "      <td>0.0</td>\n",
       "      <td>0.421109</td>\n",
       "      <td>0.0</td>\n",
       "      <td>0.555723</td>\n",
       "      <td>0.0</td>\n",
       "    </tr>\n",
       "    <tr>\n",
       "      <th>2</th>\n",
       "      <td>0.666010</td>\n",
       "      <td>4.0</td>\n",
       "      <td>2.0</td>\n",
       "      <td>4.0</td>\n",
       "      <td>0.405823</td>\n",
       "      <td>4.0</td>\n",
       "      <td>0.568715</td>\n",
       "      <td>4.0</td>\n",
       "    </tr>\n",
       "    <tr>\n",
       "      <th>3</th>\n",
       "      <td>0.454452</td>\n",
       "      <td>1.0</td>\n",
       "      <td>3.0</td>\n",
       "      <td>1.0</td>\n",
       "      <td>0.415198</td>\n",
       "      <td>1.0</td>\n",
       "      <td>0.421538</td>\n",
       "      <td>1.0</td>\n",
       "    </tr>\n",
       "    <tr>\n",
       "      <th>4</th>\n",
       "      <td>0.553099</td>\n",
       "      <td>9.0</td>\n",
       "      <td>4.0</td>\n",
       "      <td>9.0</td>\n",
       "      <td>0.471692</td>\n",
       "      <td>9.0</td>\n",
       "      <td>0.511535</td>\n",
       "      <td>9.0</td>\n",
       "    </tr>\n",
       "    <tr>\n",
       "      <th>...</th>\n",
       "      <td>...</td>\n",
       "      <td>...</td>\n",
       "      <td>...</td>\n",
       "      <td>...</td>\n",
       "      <td>...</td>\n",
       "      <td>...</td>\n",
       "      <td>...</td>\n",
       "      <td>...</td>\n",
       "    </tr>\n",
       "    <tr>\n",
       "      <th>59995</th>\n",
       "      <td>0.061186</td>\n",
       "      <td>8.0</td>\n",
       "      <td>59995.0</td>\n",
       "      <td>8.0</td>\n",
       "      <td>0.086263</td>\n",
       "      <td>8.0</td>\n",
       "      <td>0.076206</td>\n",
       "      <td>8.0</td>\n",
       "    </tr>\n",
       "    <tr>\n",
       "      <th>59996</th>\n",
       "      <td>0.307935</td>\n",
       "      <td>3.0</td>\n",
       "      <td>59996.0</td>\n",
       "      <td>3.0</td>\n",
       "      <td>0.348779</td>\n",
       "      <td>3.0</td>\n",
       "      <td>0.266522</td>\n",
       "      <td>3.0</td>\n",
       "    </tr>\n",
       "    <tr>\n",
       "      <th>59997</th>\n",
       "      <td>0.238002</td>\n",
       "      <td>5.0</td>\n",
       "      <td>59997.0</td>\n",
       "      <td>5.0</td>\n",
       "      <td>0.221697</td>\n",
       "      <td>5.0</td>\n",
       "      <td>0.252045</td>\n",
       "      <td>5.0</td>\n",
       "    </tr>\n",
       "    <tr>\n",
       "      <th>59998</th>\n",
       "      <td>0.555131</td>\n",
       "      <td>6.0</td>\n",
       "      <td>59998.0</td>\n",
       "      <td>6.0</td>\n",
       "      <td>0.400045</td>\n",
       "      <td>6.0</td>\n",
       "      <td>0.782932</td>\n",
       "      <td>6.0</td>\n",
       "    </tr>\n",
       "    <tr>\n",
       "      <th>59999</th>\n",
       "      <td>0.060586</td>\n",
       "      <td>8.0</td>\n",
       "      <td>59999.0</td>\n",
       "      <td>8.0</td>\n",
       "      <td>0.088378</td>\n",
       "      <td>8.0</td>\n",
       "      <td>0.075957</td>\n",
       "      <td>8.0</td>\n",
       "    </tr>\n",
       "  </tbody>\n",
       "</table>\n",
       "<p>60000 rows × 8 columns</p>\n",
       "</div>"
      ],
      "text/plain": [
       "         dist_0  labels      idx  y_hats_0    dist_1  y_hats_1    dist_2  \\\n",
       "0      0.243336     5.0      0.0       5.0  0.312373       5.0  0.273135   \n",
       "1      0.508444     0.0      1.0       0.0  0.421109       0.0  0.555723   \n",
       "2      0.666010     4.0      2.0       4.0  0.405823       4.0  0.568715   \n",
       "3      0.454452     1.0      3.0       1.0  0.415198       1.0  0.421538   \n",
       "4      0.553099     9.0      4.0       9.0  0.471692       9.0  0.511535   \n",
       "...         ...     ...      ...       ...       ...       ...       ...   \n",
       "59995  0.061186     8.0  59995.0       8.0  0.086263       8.0  0.076206   \n",
       "59996  0.307935     3.0  59996.0       3.0  0.348779       3.0  0.266522   \n",
       "59997  0.238002     5.0  59997.0       5.0  0.221697       5.0  0.252045   \n",
       "59998  0.555131     6.0  59998.0       6.0  0.400045       6.0  0.782932   \n",
       "59999  0.060586     8.0  59999.0       8.0  0.088378       8.0  0.075957   \n",
       "\n",
       "       y_hats_2  \n",
       "0           5.0  \n",
       "1           0.0  \n",
       "2           4.0  \n",
       "3           1.0  \n",
       "4           9.0  \n",
       "...         ...  \n",
       "59995       8.0  \n",
       "59996       3.0  \n",
       "59997       5.0  \n",
       "59998       6.0  \n",
       "59999       8.0  \n",
       "\n",
       "[60000 rows x 8 columns]"
      ]
     },
     "execution_count": 188,
     "metadata": {},
     "output_type": "execute_result"
    }
   ],
   "source": [
    "merged_df"
   ]
  },
  {
   "cell_type": "code",
   "execution_count": null,
   "id": "bb663c97-375c-4389-a9a4-bc9aee04f5b2",
   "metadata": {},
   "outputs": [],
   "source": []
  }
 ],
 "metadata": {
  "kernelspec": {
   "display_name": "Python 3 (ipykernel)",
   "language": "python",
   "name": "python3"
  },
  "language_info": {
   "codemirror_mode": {
    "name": "ipython",
    "version": 3
   },
   "file_extension": ".py",
   "mimetype": "text/x-python",
   "name": "python",
   "nbconvert_exporter": "python",
   "pygments_lexer": "ipython3",
   "version": "3.12.8"
  }
 },
 "nbformat": 4,
 "nbformat_minor": 5
}
