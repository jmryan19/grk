{
 "cells": [
  {
   "cell_type": "code",
   "execution_count": 1,
   "id": "c33a3297-82d2-4171-b81b-94aacec65b11",
   "metadata": {},
   "outputs": [],
   "source": [
    "import sys\n",
    "import os\n",
    "import torchvision\n",
    "from torchvision import transforms\n",
    "sys.path.append(os.getcwd()[:-7])\n",
    "from sanity_get_data import get_data, CIFAR10_Wrapper, MNIST_Wrapper\n",
    "from install_packages import install_packages"
   ]
  },
  {
   "cell_type": "code",
   "execution_count": 2,
   "id": "fbee297f-821a-4699-ab6b-64ed0296e6ff",
   "metadata": {
    "collapsed": true,
    "jupyter": {
     "outputs_hidden": true
    },
    "scrolled": true
   },
   "outputs": [
    {
     "name": "stdout",
     "output_type": "stream",
     "text": [
      "\n",
      "scikit-learn\n",
      "\n",
      "numpy\n",
      "\n",
      "matplotlib\n",
      "\n",
      "torch\n",
      "\n",
      "pytorch-lightning\n",
      "\n",
      "wandb\n",
      "\n",
      "einops\n",
      "\n",
      "torchvision\n",
      "\n",
      "pandas\n"
     ]
    }
   ],
   "source": [
    "install_packages()"
   ]
  },
  {
   "cell_type": "code",
   "execution_count": 3,
   "id": "1a214193-ff0a-4f1d-9ed6-df120f1a3159",
   "metadata": {},
   "outputs": [
    {
     "name": "stderr",
     "output_type": "stream",
     "text": [
      "\u001b[34m\u001b[1mwandb\u001b[0m: Using wandb-core as the SDK backend.  Please refer to https://wandb.me/wandb-core for more information.\n",
      "\u001b[34m\u001b[1mwandb\u001b[0m: \u001b[33mWARNING\u001b[0m If you're specifying your api key in code, ensure this code is not shared publicly.\n",
      "\u001b[34m\u001b[1mwandb\u001b[0m: \u001b[33mWARNING\u001b[0m Consider setting the WANDB_API_KEY environment variable, or running `wandb login` from the command line.\n",
      "\u001b[34m\u001b[1mwandb\u001b[0m: No netrc file found, creating one.\n",
      "\u001b[34m\u001b[1mwandb\u001b[0m: Appending key for api.wandb.ai to your netrc file: /home/jovyan/.netrc\n",
      "\u001b[34m\u001b[1mwandb\u001b[0m: Currently logged in as: \u001b[33mjmryan\u001b[0m to \u001b[32mhttps://api.wandb.ai\u001b[0m. Use \u001b[1m`wandb login --relogin`\u001b[0m to force relogin\n"
     ]
    },
    {
     "data": {
      "text/plain": [
       "True"
      ]
     },
     "execution_count": 3,
     "metadata": {},
     "output_type": "execute_result"
    }
   ],
   "source": [
    "import torch\n",
    "import pandas as pd\n",
    "import numpy as np\n",
    "from functools import reduce\n",
    "from einops import rearrange, repeat\n",
    "import matplotlib.pyplot as plt\n",
    "import seaborn as sns\n",
    "from get_grok import get_data\n",
    "import wandb\n",
    "KEY = '8b81e715f744716c02701d1b0a23c4342e62ad45'\n",
    "wandb.login(key = KEY)"
   ]
  },
  {
   "cell_type": "markdown",
   "id": "576fd12e-b45b-4a4c-b893-9bc44ddbc2c3",
   "metadata": {
    "jp-MarkdownHeadingCollapsed": true
   },
   "source": [
    "### Toy Test 2: Ensuring Grok Manual Seeding Works"
   ]
  },
  {
   "cell_type": "markdown",
   "id": "7612e902-495d-48d1-8a5f-5663bd650d45",
   "metadata": {},
   "source": [
    "This sanity check does 2 things. First, it makes sure that the data and the 'original' indices and the labels are organized and tracked properly through training and processing. Second, it makes sure that the manual seeding for grok works so that the train val split is the same for every initialization."
   ]
  },
  {
   "cell_type": "code",
   "execution_count": 15,
   "id": "e9e4e592-7ad0-4cc0-8815-fa1db7f81149",
   "metadata": {},
   "outputs": [],
   "source": [
    "LABEL_INDEX = -3\n",
    "Y_HAT_INDEX = -2\n",
    "IDX_INDEX = -1"
   ]
  },
  {
   "cell_type": "code",
   "execution_count": 4,
   "id": "e1d7f926-983d-4bbc-a9a1-92e88105fe45",
   "metadata": {},
   "outputs": [],
   "source": [
    "paths = [f'class_means_distance/grok_toy_test_2_data_0.5_train_fraction_0.5_iter_{x}_max_epochs_11/train/train_raw_activations_epoch_' for x in list(range(5))]"
   ]
  },
  {
   "cell_type": "code",
   "execution_count": 8,
   "id": "96128375-1366-463b-bd01-33a2d99d5199",
   "metadata": {},
   "outputs": [
    {
     "name": "stdout",
     "output_type": "stream",
     "text": [
      "torch.Size([33, 131])\n",
      "torch.Size([33, 131])\n",
      "torch.Size([33, 131])\n",
      "torch.Size([33, 131])\n",
      "torch.Size([33, 131])\n"
     ]
    }
   ],
   "source": [
    "all_idxs = []\n",
    "epoch = 10\n",
    "for i, path in enumerate(paths):\n",
    "    dat = torch.load(path + str(epoch), map_location=torch.device('cpu'), weights_only=True)\n",
    "    print(dat.shape)\n",
    "    labels = dat[: , LABEL_INDEX]\n",
    "    y_hats = dat[: , Y_HAT_INDEX]\n",
    "    idx = dat[: , IDX_INDEX]\n",
    "    all_idxs.append(idx)\n",
    "    activations = dat[: , :-3]\n",
    "\n",
    "intersection_all = reduce(np.intersect1d, all_idxs)\n",
    "union_all = reduce(np.union1d, all_idxs)\n",
    "len(intersection_all) == len(union_all)"
   ]
  },
  {
   "cell_type": "code",
   "execution_count": 13,
   "id": "eefcdb0c-787e-40be-88bf-6b18624c1505",
   "metadata": {},
   "outputs": [],
   "source": [
    "intersection_all = reduce(np.intersect1d, all_idxs)\n",
    "union_all = reduce(np.union1d, all_idxs)"
   ]
  },
  {
   "cell_type": "code",
   "execution_count": 14,
   "id": "45ad73b2-922d-4298-ba14-f05e446bee5b",
   "metadata": {},
   "outputs": [
    {
     "data": {
      "text/plain": [
       "True"
      ]
     },
     "execution_count": 14,
     "metadata": {},
     "output_type": "execute_result"
    }
   ],
   "source": [
    "len(intersection_all) == len(union_all)"
   ]
  },
  {
   "cell_type": "code",
   "execution_count": 16,
   "id": "58b4e5fc-7530-4472-9630-a04e7bd3ed72",
   "metadata": {},
   "outputs": [],
   "source": [
    "def process_merge(paths, epoch, distance_metric = 'l2', normalization = 'none'):\n",
    "    all_dfs = []\n",
    "    for i, path in enumerate(paths):\n",
    "        dat = torch.load(path + str(epoch), map_location=torch.device('cpu'), weights_only=True)\n",
    "        labels = dat[: , LABEL_INDEX]\n",
    "        y_hats = dat[: , Y_HAT_INDEX]\n",
    "        idx = dat[: , IDX_INDEX]\n",
    "        activations = dat[: , :-3]\n",
    "        uniq_labels = np.unique(labels)\n",
    "        \n",
    "        global_mean = activations.mean(axis=0)\n",
    "        ordered_l2 = []\n",
    "        ordered_labels = []\n",
    "        ordered_idx = []\n",
    "        ordered_y_hats = []\n",
    "        \n",
    "        for j in uniq_labels:\n",
    "            labels_indexing = (labels == j)\n",
    "            class_activations = activations[labels_indexing, :]\n",
    "            class_mean = class_activations.mean(axis=0) - global_mean\n",
    "\n",
    "            if normalization == 'class':\n",
    "                class_std = class_activations.std(axis=0) + 0.0001\n",
    "                class_activations = class_activations / repeat(class_std, 'u -> n u', n = class_activations.shape[0])\n",
    "                class_mean = class_mean / class_std\n",
    "                # print(class_std)\n",
    "\n",
    "            elif normalization == 'global':\n",
    "                global_std = activations.std(axis=0) + 0.0001\n",
    "                class_activations = class_activations - repeat(global_mean, 'u -> n u', n = class_activations.shape[0])\n",
    "                class_activations = class_activations / repeat(global_std, 'u -> n u', n = class_activations.shape[0])\n",
    "                class_mean = class_mean / global_std\n",
    "\n",
    "            if distance_metric == 'cosine':\n",
    "                cos_dist = 1 - torch.nn.functional.cosine_similarity(class_activations, repeat(class_mean, 'u -> n u', n = class_activations.shape[0]))\n",
    "                _ = [ordered_l2.append(diff) for diff in cos_dist]\n",
    "            \n",
    "            elif distance_metric == 'l2':\n",
    "                class_diff = class_activations - repeat(class_mean, 'u -> n u', n = class_activations.shape[0])\n",
    "                _ = [ordered_l2.append(torch.linalg.vector_norm(diff)) for diff in class_diff]\n",
    "            \n",
    "            _ = [ordered_labels.append(lab) for lab in labels[labels_indexing]]\n",
    "            _ = [ordered_idx.append(ids) for ids in idx[labels_indexing]]\n",
    "            _ = [ordered_y_hats.append(y_hat) for y_hat in y_hats[labels_indexing]]\n",
    "        \n",
    "        all_together = torch.vstack([torch.tensor(x) for x in [ordered_l2, ordered_labels, ordered_idx, ordered_y_hats]]).T\n",
    "        df = pd.DataFrame(all_together, columns = [f'dist_{i}', f'labels', f'idx', f'y_hats_{i}'])\n",
    "        if i != 0:\n",
    "            df = df.drop(columns=['labels'])\n",
    "        \n",
    "        all_dfs.append(df)\n",
    "    merged_df = reduce(lambda left, right: pd.merge(left, right, on='idx', how='outer'), all_dfs)\n",
    "    return merged_df"
   ]
  },
  {
   "cell_type": "code",
   "execution_count": 17,
   "id": "243b5091-c1d7-4c81-9255-4f08de3a0ba4",
   "metadata": {},
   "outputs": [],
   "source": [
    "def graph_hists(merged_df):\n",
    "    l2_columns = [col for col in merged_df.columns if col.startswith('dist_')]\n",
    "    num_cols = len(l2_columns)\n",
    "    \n",
    "    # Create a grid: 2 rows (general + label-wise), N columns (1 per l2_x)\n",
    "    fig, axes = plt.subplots(2, num_cols, figsize=(5 * num_cols, 10), sharey='row')\n",
    "    \n",
    "    # Row 1: General histograms\n",
    "    for i, col in enumerate(l2_columns):\n",
    "        ax = axes[0, i]\n",
    "        sns.histplot(merged_df[col], bins=30, kde=False, ax=ax, color='skyblue')\n",
    "        ax.set_title(f\"{col} - Overall\")\n",
    "        ax.set_xlabel(\"\")\n",
    "        ax.set_ylabel(\"Count\")\n",
    "    \n",
    "    # Row 2: Label-wise histograms\n",
    "    for i, col in enumerate(l2_columns):\n",
    "        ax = axes[1, i]\n",
    "        for label in sorted(merged_df['labels'].unique()):\n",
    "            subset = merged_df[merged_df['labels'] == label]\n",
    "            sns.histplot(subset[col], bins=30, kde=False, label=f\"Label {label}\", alpha=0.5, ax=ax)\n",
    "        ax.set_title(f\"{col} - By Label\")\n",
    "        ax.set_xlabel(\"Value\")\n",
    "        ax.set_ylabel(\"Count\")\n",
    "        ax.legend()\n",
    "    \n",
    "    plt.tight_layout()\n",
    "    plt.show()\n",
    "    \n",
    "    # Group by 'labels' and calculate mean and std\n",
    "    grouped_stats = merged_df.groupby('labels')[l2_columns].agg(['mean', 'std'])\n",
    "    \n",
    "    # Optional: flatten MultiIndex columns\n",
    "    grouped_stats.columns = [f\"{col}_{stat}\" for col, stat in grouped_stats.columns]\n",
    "    \n",
    "    # Display the result\n",
    "    display(grouped_stats)"
   ]
  },
  {
   "cell_type": "code",
   "execution_count": 18,
   "id": "8a62c14f-4371-4973-a4f3-05c2e178f352",
   "metadata": {},
   "outputs": [],
   "source": [
    "def top_x_percent_per_label(merged_df, percent):\n",
    "    l2_columns = [col for col in merged_df.columns if col.startswith('dist_')]\n",
    "\n",
    "    # List to store the final output\n",
    "    top_10_percent_idxs = []\n",
    "    quant = 1 - percent\n",
    "    \n",
    "    for col in l2_columns:\n",
    "        top_idxs = []\n",
    "        for label in merged_df['labels'].unique():\n",
    "            subset = merged_df[merged_df['labels'] == label]\n",
    "            threshold = subset[col].quantile(quant)\n",
    "            idxs = subset[subset[col] >= threshold]['idx'].to_numpy()\n",
    "            top_idxs.append(idxs)\n",
    "        \n",
    "        # Combine all labels' top idxs into a single array (e.g., union)\n",
    "        combined = np.unique(np.concatenate(top_idxs))\n",
    "        top_10_percent_idxs.append(combined)\n",
    "\n",
    "    union_all = reduce(np.union1d, top_10_percent_idxs)\n",
    "    intersection_all = reduce(np.intersect1d, top_10_percent_idxs)\n",
    "\n",
    "    print(f'Jaccard Similarity: {len(intersection_all)/len(union_all)}')\n",
    "    print(f'Size of Union: {len(union_all)}')\n",
    "    print(f'Size of Intersection: {len(intersection_all)}')\n",
    "    \n",
    "    return top_10_percent_idxs, union_all, intersection_all"
   ]
  },
  {
   "cell_type": "code",
   "execution_count": 19,
   "id": "37b68b28-f447-4700-a37c-e3405389c2f6",
   "metadata": {},
   "outputs": [],
   "source": [
    "def bottom_x_percent_per_label(merged_df, percent):\n",
    "    l2_columns = [col for col in merged_df.columns if col.startswith('dist_')]\n",
    "\n",
    "    # List to store the final output\n",
    "    bottom_10_percent_idxs = []\n",
    "    quant = 1 - percent\n",
    "    \n",
    "    for col in l2_columns:\n",
    "        bottom_idxs = []\n",
    "        for label in merged_df['labels'].unique():\n",
    "            subset = merged_df[merged_df['labels'] == label]\n",
    "            threshold = subset[col].quantile(percent)\n",
    "            idxs = subset[subset[col] <= threshold]['idx'].to_numpy()\n",
    "            bottom_idxs.append(idxs)\n",
    "        \n",
    "        # Combine all labels' top idxs into a single array (e.g., union)\n",
    "        combined = np.unique(np.concatenate(bottom_idxs))\n",
    "        bottom_10_percent_idxs.append(combined)\n",
    "\n",
    "    union_all = reduce(np.union1d, bottom_10_percent_idxs)\n",
    "    intersection_all = reduce(np.intersect1d, bottom_10_percent_idxs)\n",
    "\n",
    "    print(f'Jaccard Similarity: {len(intersection_all)/len(union_all)}')\n",
    "    print(f'Size of Union: {len(union_all)}')\n",
    "    print(f'Size of Intersection: {len(intersection_all)}')\n",
    "    \n",
    "    return bottom_10_percent_idxs, union_all, intersection_all"
   ]
  },
  {
   "cell_type": "markdown",
   "id": "fffa2ccf-415c-4128-a5d1-8389f5b4cafd",
   "metadata": {},
   "source": [
    "### CIFAR Sanity Lightning 1"
   ]
  },
  {
   "cell_type": "markdown",
   "id": "984513cd-3490-4590-bb26-d76a897f6aed",
   "metadata": {
    "jp-MarkdownHeadingCollapsed": true
   },
   "source": [
    "#### Get Seed"
   ]
  },
  {
   "cell_type": "code",
   "execution_count": 6,
   "id": "96b7706a-4210-4066-a3e1-260e95e5eaf8",
   "metadata": {},
   "outputs": [],
   "source": [
    "run_path = \"jmryan/emergence_redo/uhgk2tas\"  # Example: \"jmryan19/my-cool-project/abcd1234\"\n",
    "\n",
    "# Fetch the run\n",
    "api = wandb.Api()\n",
    "run = api.run(run_path)\n",
    "\n",
    "# Access the config\n",
    "config = run.config"
   ]
  },
  {
   "cell_type": "code",
   "execution_count": 7,
   "id": "26b53eab-6dfb-4fae-ab19-d673c35a0041",
   "metadata": {},
   "outputs": [
    {
     "data": {
      "text/plain": [
       "{'base': False,\n",
       " 'data': 'cifar10',\n",
       " 'iter': 4,\n",
       " 'loss': 'cross_entropy',\n",
       " 'seed': 3721966775248150500,\n",
       " 'model': 'resnet18',\n",
       " 'prime': 67,\n",
       " 'openai': True,\n",
       " 'repeat': False,\n",
       " 'dim_model': 256,\n",
       " 'num_heads': 4,\n",
       " 'num_steps': 100000,\n",
       " 'batch_size': 64,\n",
       " 'experiment': 'cifar_baseline_final_t',\n",
       " 'max_epochs': 400,\n",
       " 'num_layers': 2,\n",
       " 'data_budget': 1000,\n",
       " 'kind_custom': 'top',\n",
       " 'custom_cifar': False,\n",
       " 'train_budget': 5000,\n",
       " 'weight_decay': 0.0005,\n",
       " 'learning_rate': 0.001,\n",
       " 'max_train_val': 67,\n",
       " 'wandb_offline': False,\n",
       " 'train_data_len': 50000,\n",
       " 'fcn_hidden_width': 512,\n",
       " 'kernel_bandwidth': 1,\n",
       " 'training_fraction': 0.5,\n",
       " 'plot_inner_products': False,\n",
       " 'validation_data_len': 10000,\n",
       " 'save_dist_class_means': True}"
      ]
     },
     "execution_count": 7,
     "metadata": {},
     "output_type": "execute_result"
    }
   ],
   "source": [
    "config"
   ]
  },
  {
   "cell_type": "markdown",
   "id": "f9c6cc2a-b38c-4014-8537-15035e7d0ecf",
   "metadata": {},
   "source": [
    "#### Get"
   ]
  },
  {
   "cell_type": "code",
   "execution_count": 7,
   "id": "032f0df7-fda6-443f-ad07-c39b1fe68e1b",
   "metadata": {},
   "outputs": [],
   "source": [
    "sanity_path_0 = '../class_means_distance/cifar_sanity_no_shuffle_data_cifar10_iter_0_max_epochs_25/train/train_raw_activations_epoch_'\n",
    "sanity_path_1 = '../class_means_distance/cifar_sanity_no_shuffle_data_cifar10_iter_1_max_epochs_25/train/train_raw_activations_epoch_'\n",
    "lightweight_path = '../class_means_distance/cifar_lightweight_no_shuffle_data_cifar10_iter_0_max_epochs_25/train/train_raw_activations_epoch_'"
   ]
  },
  {
   "cell_type": "code",
   "execution_count": 8,
   "id": "0c55fe2f-e681-466b-a07b-e6738f4cb462",
   "metadata": {},
   "outputs": [],
   "source": [
    "epoch = 10\n",
    "sanity_dat_0 = torch.load(sanity_path_0 + str(epoch), map_location=torch.device('cpu'), weights_only=True)\n",
    "sanity_dat_1 = torch.load(sanity_path_1 + str(epoch), map_location=torch.device('cpu'), weights_only=True)\n",
    "lightweight_dat = torch.load(lightweight_path + str(epoch), map_location=torch.device('cpu'), weights_only=True)"
   ]
  },
  {
   "cell_type": "code",
   "execution_count": 10,
   "id": "09147c87-d929-4e0a-83fa-b0402e0e5783",
   "metadata": {},
   "outputs": [
    {
     "name": "stdout",
     "output_type": "stream",
     "text": [
      "True\n"
     ]
    }
   ],
   "source": [
    "same_indices = True\n",
    "for i in range(len(sanity_dat_0[:,-1])):\n",
    "    if sanity_dat_0[i,-1] != lightweight_dat[i, -1]:\n",
    "        same_indices = False\n",
    "        break\n",
    "print(same_indices)"
   ]
  },
  {
   "cell_type": "code",
   "execution_count": 11,
   "id": "71ff7fa5-71a7-4db5-b4f5-afa1c398bb6d",
   "metadata": {},
   "outputs": [
    {
     "name": "stdout",
     "output_type": "stream",
     "text": [
      "True\n"
     ]
    }
   ],
   "source": [
    "same_labels = True\n",
    "for i in range(len(sanity_dat_0[:,-3])):\n",
    "    if sanity_dat_0[i,-3] != lightweight_dat[i, -3]:\n",
    "        same_labels = False\n",
    "        break\n",
    "print(same_labels)"
   ]
  },
  {
   "cell_type": "code",
   "execution_count": 12,
   "id": "96b8ddb4-afe4-47e8-a302-bc04feeb7b73",
   "metadata": {},
   "outputs": [
    {
     "name": "stdout",
     "output_type": "stream",
     "text": [
      "True\n"
     ]
    }
   ],
   "source": [
    "same_yhats = True\n",
    "for i in range(len(sanity_dat_0[:,-2])):\n",
    "    if sanity_dat_0[i,-2] != lightweight_dat[i, -2]:\n",
    "        same_yhats = False\n",
    "        break\n",
    "print(same_yhats)"
   ]
  },
  {
   "cell_type": "markdown",
   "id": "8b1e126d-cffe-4080-b83e-71ca894e1bbb",
   "metadata": {},
   "source": [
    "Using same seeding, simplified sanity model gives same outputs as original lightweight model."
   ]
  },
  {
   "cell_type": "markdown",
   "id": "79afd4f7-1aff-473d-845e-3efbcd4f8baf",
   "metadata": {},
   "source": [
    "### Sanity No Shuffle MNIST Resnet18 Seed 515"
   ]
  },
  {
   "cell_type": "code",
   "execution_count": 24,
   "id": "4bcd703f-2a8f-45d2-af3d-83f30460cb73",
   "metadata": {},
   "outputs": [],
   "source": [
    "mnist_515 = 'class_means_distance/sanity_no_shuffle_data_mnist_resnet18_seed_515_iter_0_max_epochs_400/train/train_raw_activations_epoch_'"
   ]
  },
  {
   "cell_type": "code",
   "execution_count": 25,
   "id": "99ae27e2-8385-4202-a83c-1479e6e87326",
   "metadata": {},
   "outputs": [],
   "source": [
    "epoch = 5\n",
    "mnist_515_data = torch.load(sanity_path_0 + str(epoch), map_location=torch.device('cpu'), weights_only=True)"
   ]
  },
  {
   "cell_type": "code",
   "execution_count": 26,
   "id": "36e9858a-75a0-4b21-b4f4-6d1c8f3f1eae",
   "metadata": {},
   "outputs": [],
   "source": [
    "merged_df = process_merge([mnist_515], 5)"
   ]
  },
  {
   "cell_type": "code",
   "execution_count": 27,
   "id": "683f0c42-b30b-40b3-9a52-5f38da4a2457",
   "metadata": {},
   "outputs": [
    {
     "data": {
      "text/html": [
       "<div>\n",
       "<style scoped>\n",
       "    .dataframe tbody tr th:only-of-type {\n",
       "        vertical-align: middle;\n",
       "    }\n",
       "\n",
       "    .dataframe tbody tr th {\n",
       "        vertical-align: top;\n",
       "    }\n",
       "\n",
       "    .dataframe thead th {\n",
       "        text-align: right;\n",
       "    }\n",
       "</style>\n",
       "<table border=\"1\" class=\"dataframe\">\n",
       "  <thead>\n",
       "    <tr style=\"text-align: right;\">\n",
       "      <th></th>\n",
       "      <th>dist_0</th>\n",
       "      <th>labels</th>\n",
       "      <th>idx</th>\n",
       "      <th>y_hats_0</th>\n",
       "    </tr>\n",
       "  </thead>\n",
       "  <tbody>\n",
       "    <tr>\n",
       "      <th>0</th>\n",
       "      <td>29.665813</td>\n",
       "      <td>0.0</td>\n",
       "      <td>31202.0</td>\n",
       "      <td>0.0</td>\n",
       "    </tr>\n",
       "    <tr>\n",
       "      <th>1</th>\n",
       "      <td>28.374050</td>\n",
       "      <td>0.0</td>\n",
       "      <td>36749.0</td>\n",
       "      <td>0.0</td>\n",
       "    </tr>\n",
       "    <tr>\n",
       "      <th>2</th>\n",
       "      <td>27.017120</td>\n",
       "      <td>0.0</td>\n",
       "      <td>47156.0</td>\n",
       "      <td>0.0</td>\n",
       "    </tr>\n",
       "    <tr>\n",
       "      <th>3</th>\n",
       "      <td>28.395668</td>\n",
       "      <td>0.0</td>\n",
       "      <td>9717.0</td>\n",
       "      <td>0.0</td>\n",
       "    </tr>\n",
       "    <tr>\n",
       "      <th>4</th>\n",
       "      <td>27.514494</td>\n",
       "      <td>0.0</td>\n",
       "      <td>42752.0</td>\n",
       "      <td>0.0</td>\n",
       "    </tr>\n",
       "    <tr>\n",
       "      <th>...</th>\n",
       "      <td>...</td>\n",
       "      <td>...</td>\n",
       "      <td>...</td>\n",
       "      <td>...</td>\n",
       "    </tr>\n",
       "    <tr>\n",
       "      <th>59995</th>\n",
       "      <td>28.558506</td>\n",
       "      <td>9.0</td>\n",
       "      <td>43870.0</td>\n",
       "      <td>9.0</td>\n",
       "    </tr>\n",
       "    <tr>\n",
       "      <th>59996</th>\n",
       "      <td>24.637981</td>\n",
       "      <td>9.0</td>\n",
       "      <td>21378.0</td>\n",
       "      <td>9.0</td>\n",
       "    </tr>\n",
       "    <tr>\n",
       "      <th>59997</th>\n",
       "      <td>27.728691</td>\n",
       "      <td>9.0</td>\n",
       "      <td>30701.0</td>\n",
       "      <td>9.0</td>\n",
       "    </tr>\n",
       "    <tr>\n",
       "      <th>59998</th>\n",
       "      <td>26.201992</td>\n",
       "      <td>9.0</td>\n",
       "      <td>49226.0</td>\n",
       "      <td>9.0</td>\n",
       "    </tr>\n",
       "    <tr>\n",
       "      <th>59999</th>\n",
       "      <td>27.723703</td>\n",
       "      <td>9.0</td>\n",
       "      <td>27731.0</td>\n",
       "      <td>9.0</td>\n",
       "    </tr>\n",
       "  </tbody>\n",
       "</table>\n",
       "<p>60000 rows × 4 columns</p>\n",
       "</div>"
      ],
      "text/plain": [
       "          dist_0  labels      idx  y_hats_0\n",
       "0      29.665813     0.0  31202.0       0.0\n",
       "1      28.374050     0.0  36749.0       0.0\n",
       "2      27.017120     0.0  47156.0       0.0\n",
       "3      28.395668     0.0   9717.0       0.0\n",
       "4      27.514494     0.0  42752.0       0.0\n",
       "...          ...     ...      ...       ...\n",
       "59995  28.558506     9.0  43870.0       9.0\n",
       "59996  24.637981     9.0  21378.0       9.0\n",
       "59997  27.728691     9.0  30701.0       9.0\n",
       "59998  26.201992     9.0  49226.0       9.0\n",
       "59999  27.723703     9.0  27731.0       9.0\n",
       "\n",
       "[60000 rows x 4 columns]"
      ]
     },
     "execution_count": 27,
     "metadata": {},
     "output_type": "execute_result"
    }
   ],
   "source": [
    "merged_df"
   ]
  },
  {
   "cell_type": "code",
   "execution_count": null,
   "id": "027b4881-25ac-4722-bde1-35f596c81bb6",
   "metadata": {},
   "outputs": [],
   "source": []
  }
 ],
 "metadata": {
  "kernelspec": {
   "display_name": "Python 3 (ipykernel)",
   "language": "python",
   "name": "python3"
  },
  "language_info": {
   "codemirror_mode": {
    "name": "ipython",
    "version": 3
   },
   "file_extension": ".py",
   "mimetype": "text/x-python",
   "name": "python",
   "nbconvert_exporter": "python",
   "pygments_lexer": "ipython3",
   "version": "3.12.8"
  }
 },
 "nbformat": 4,
 "nbformat_minor": 5
}
