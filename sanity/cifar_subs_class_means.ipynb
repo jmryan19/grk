{
 "cells": [
  {
   "cell_type": "code",
   "execution_count": 1,
   "id": "c33a3297-82d2-4171-b81b-94aacec65b11",
   "metadata": {},
   "outputs": [],
   "source": [
    "import sys\n",
    "import os\n",
    "import torchvision\n",
    "from torchvision import transforms\n",
    "sys.path.append(os.getcwd()[:-7])\n",
    "from sanity_get_data import get_data, CIFAR10_Wrapper, MNIST_Wrapper\n",
    "from install_packages import install_packages"
   ]
  },
  {
   "cell_type": "code",
   "execution_count": 2,
   "id": "fbee297f-821a-4699-ab6b-64ed0296e6ff",
   "metadata": {
    "collapsed": true,
    "jupyter": {
     "outputs_hidden": true,
     "source_hidden": true
    },
    "scrolled": true
   },
   "outputs": [
    {
     "name": "stdout",
     "output_type": "stream",
     "text": [
      "\n",
      "scikit-learn\n",
      "\n",
      "numpy\n",
      "\n",
      "matplotlib\n",
      "\n",
      "torch\n",
      "\n",
      "pytorch-lightning\n",
      "\n",
      "wandb\n",
      "\n",
      "einops\n",
      "\n",
      "torchvision\n",
      "\n",
      "pandas\n"
     ]
    }
   ],
   "source": [
    "install_packages()"
   ]
  },
  {
   "cell_type": "code",
   "execution_count": 2,
   "id": "1a214193-ff0a-4f1d-9ed6-df120f1a3159",
   "metadata": {},
   "outputs": [
    {
     "name": "stderr",
     "output_type": "stream",
     "text": [
      "\u001b[34m\u001b[1mwandb\u001b[0m: Using wandb-core as the SDK backend.  Please refer to https://wandb.me/wandb-core for more information.\n",
      "\u001b[34m\u001b[1mwandb\u001b[0m: \u001b[33mWARNING\u001b[0m If you're specifying your api key in code, ensure this code is not shared publicly.\n",
      "\u001b[34m\u001b[1mwandb\u001b[0m: \u001b[33mWARNING\u001b[0m Consider setting the WANDB_API_KEY environment variable, or running `wandb login` from the command line.\n",
      "\u001b[34m\u001b[1mwandb\u001b[0m: Appending key for api.wandb.ai to your netrc file: /home/jovyan/.netrc\n",
      "\u001b[34m\u001b[1mwandb\u001b[0m: Currently logged in as: \u001b[33mjmryan\u001b[0m to \u001b[32mhttps://api.wandb.ai\u001b[0m. Use \u001b[1m`wandb login --relogin`\u001b[0m to force relogin\n"
     ]
    }
   ],
   "source": [
    "import torch\n",
    "import pandas as pd\n",
    "import numpy as np\n",
    "from functools import reduce\n",
    "from einops import rearrange, repeat\n",
    "import matplotlib.pyplot as plt\n",
    "import seaborn as sns\n",
    "from get_grok import get_data\n",
    "import wandb\n",
    "KEY = '8b81e715f744716c02701d1b0a23c4342e62ad45'\n",
    "wandb.login(key = KEY)\n",
    "from helper_process import process_merge, top_x_percent_per_label, bottom_x_percent_per_label"
   ]
  },
  {
   "cell_type": "markdown",
   "id": "7cde5025-090c-46e8-bb1c-2ae8038e3c9d",
   "metadata": {},
   "source": [
    "This notebook will go through 3 experiments of 'subsetting' the CIFAR data to see how it effects Jaccard similarity. 1k Total train samples takes a random (same across seeds) 1k images (100 from each class) and trains Resnet on these 1k images. 2 Classes combines the 10 classes into 2 based on whether the image is a vehicle or an animal (20k images vs 30k images) and trains Resnet on these new classes. Label Change grabs 10 random images (same across seeds) and randomly selects a new class (purposefully mislabeling) and trains a Resnet on all the data."
   ]
  },
  {
   "cell_type": "code",
   "execution_count": 3,
   "id": "e9e4e592-7ad0-4cc0-8815-fa1db7f81149",
   "metadata": {},
   "outputs": [],
   "source": [
    "LABEL_INDEX = -3\n",
    "Y_HAT_INDEX = -2\n",
    "IDX_INDEX = -1"
   ]
  },
  {
   "cell_type": "code",
   "execution_count": 4,
   "id": "e1d7f926-983d-4bbc-a9a1-92e88105fe45",
   "metadata": {},
   "outputs": [],
   "source": [
    "paths = [f'class_means_distance/grok_toy_test_2_data_0.5_train_fraction_0.5_iter_{x}_max_epochs_11/train/train_raw_activations_epoch_' for x in list(range(5))]"
   ]
  },
  {
   "cell_type": "code",
   "execution_count": 5,
   "id": "58b4e5fc-7530-4472-9630-a04e7bd3ed72",
   "metadata": {},
   "outputs": [],
   "source": [
    "def process_merge(paths, epoch, distance_metric = 'l2', normalization = 'none'):\n",
    "    all_dfs = []\n",
    "    for i, path in enumerate(paths):\n",
    "        dat = torch.load(path + str(epoch), map_location=torch.device('cpu'), weights_only=True)\n",
    "        labels = dat[: , LABEL_INDEX]\n",
    "        y_hats = dat[: , Y_HAT_INDEX]\n",
    "        idx = dat[: , IDX_INDEX]\n",
    "        activations = dat[: , :-3]\n",
    "        uniq_labels = np.unique(labels)\n",
    "        \n",
    "        global_mean = activations.mean(axis=0)\n",
    "        ordered_l2 = []\n",
    "        ordered_labels = []\n",
    "        ordered_idx = []\n",
    "        ordered_y_hats = []\n",
    "        \n",
    "        for j in uniq_labels:\n",
    "            labels_indexing = (labels == j)\n",
    "            class_activations = activations[labels_indexing, :]\n",
    "            class_mean = class_activations.mean(axis=0) - global_mean\n",
    "\n",
    "            if normalization == 'class':\n",
    "                class_std = class_activations.std(axis=0) + 0.0001\n",
    "                class_activations = class_activations / repeat(class_std, 'u -> n u', n = class_activations.shape[0])\n",
    "                class_mean = class_mean / class_std\n",
    "                # print(class_std)\n",
    "\n",
    "            elif normalization == 'global':\n",
    "                global_std = activations.std(axis=0) + 0.0001\n",
    "                class_activations = class_activations - repeat(global_mean, 'u -> n u', n = class_activations.shape[0])\n",
    "                class_activations = class_activations / repeat(global_std, 'u -> n u', n = class_activations.shape[0])\n",
    "                class_mean = class_mean / global_std\n",
    "\n",
    "            if distance_metric == 'cosine':\n",
    "                cos_dist = 1 - torch.nn.functional.cosine_similarity(class_activations, repeat(class_mean, 'u -> n u', n = class_activations.shape[0]))\n",
    "                _ = [ordered_l2.append(diff) for diff in cos_dist]\n",
    "            \n",
    "            elif distance_metric == 'l2':\n",
    "                class_diff = class_activations - repeat(class_mean, 'u -> n u', n = class_activations.shape[0])\n",
    "                _ = [ordered_l2.append(torch.linalg.vector_norm(diff)) for diff in class_diff]\n",
    "            \n",
    "            _ = [ordered_labels.append(lab) for lab in labels[labels_indexing]]\n",
    "            _ = [ordered_idx.append(ids) for ids in idx[labels_indexing]]\n",
    "            _ = [ordered_y_hats.append(y_hat) for y_hat in y_hats[labels_indexing]]\n",
    "        \n",
    "        all_together = torch.vstack([torch.tensor(x) for x in [ordered_l2, ordered_labels, ordered_idx, ordered_y_hats]]).T\n",
    "        df = pd.DataFrame(all_together, columns = [f'dist_{i}', f'labels', f'idx', f'y_hats_{i}'])\n",
    "        if i != 0:\n",
    "            df = df.drop(columns=['labels'])\n",
    "        \n",
    "        all_dfs.append(df)\n",
    "    merged_df = reduce(lambda left, right: pd.merge(left, right, on='idx', how='outer'), all_dfs)\n",
    "    return merged_df"
   ]
  },
  {
   "cell_type": "code",
   "execution_count": 6,
   "id": "243b5091-c1d7-4c81-9255-4f08de3a0ba4",
   "metadata": {},
   "outputs": [],
   "source": [
    "def graph_hists(merged_df):\n",
    "    l2_columns = [col for col in merged_df.columns if col.startswith('dist_')]\n",
    "    num_cols = len(l2_columns)\n",
    "    \n",
    "    # Create a grid: 2 rows (general + label-wise), N columns (1 per l2_x)\n",
    "    fig, axes = plt.subplots(2, num_cols, figsize=(5 * num_cols, 10), sharey='row')\n",
    "    \n",
    "    # Row 1: General histograms\n",
    "    for i, col in enumerate(l2_columns):\n",
    "        ax = axes[0, i]\n",
    "        sns.histplot(merged_df[col], bins=30, kde=False, ax=ax, color='skyblue')\n",
    "        ax.set_title(f\"{col} - Overall\")\n",
    "        ax.set_xlabel(\"\")\n",
    "        ax.set_ylabel(\"Count\")\n",
    "    \n",
    "    # Row 2: Label-wise histograms\n",
    "    for i, col in enumerate(l2_columns):\n",
    "        ax = axes[1, i]\n",
    "        for label in sorted(merged_df['labels'].unique()):\n",
    "            subset = merged_df[merged_df['labels'] == label]\n",
    "            sns.histplot(subset[col], bins=30, kde=False, label=f\"Label {label}\", alpha=0.5, ax=ax)\n",
    "        ax.set_title(f\"{col} - By Label\")\n",
    "        ax.set_xlabel(\"Value\")\n",
    "        ax.set_ylabel(\"Count\")\n",
    "        ax.legend()\n",
    "    \n",
    "    plt.tight_layout()\n",
    "    plt.show()\n",
    "    \n",
    "    # Group by 'labels' and calculate mean and std\n",
    "    grouped_stats = merged_df.groupby('labels')[l2_columns].agg(['mean', 'std'])\n",
    "    \n",
    "    # Optional: flatten MultiIndex columns\n",
    "    grouped_stats.columns = [f\"{col}_{stat}\" for col, stat in grouped_stats.columns]\n",
    "    \n",
    "    # Display the result\n",
    "    display(grouped_stats)"
   ]
  },
  {
   "cell_type": "code",
   "execution_count": 7,
   "id": "8a62c14f-4371-4973-a4f3-05c2e178f352",
   "metadata": {},
   "outputs": [],
   "source": [
    "def top_x_percent_per_label(merged_df, percent):\n",
    "    l2_columns = [col for col in merged_df.columns if col.startswith('dist_')]\n",
    "\n",
    "    # List to store the final output\n",
    "    top_10_percent_idxs = []\n",
    "    quant = 1 - percent\n",
    "    \n",
    "    for col in l2_columns:\n",
    "        top_idxs = []\n",
    "        for label in merged_df['labels'].unique():\n",
    "            subset = merged_df[merged_df['labels'] == label]\n",
    "            threshold = subset[col].quantile(quant)\n",
    "            idxs = subset[subset[col] >= threshold]['idx'].to_numpy()\n",
    "            top_idxs.append(idxs)\n",
    "        \n",
    "        # Combine all labels' top idxs into a single array (e.g., union)\n",
    "        combined = np.unique(np.concatenate(top_idxs))\n",
    "        top_10_percent_idxs.append(combined)\n",
    "\n",
    "    union_all = reduce(np.union1d, top_10_percent_idxs)\n",
    "    intersection_all = reduce(np.intersect1d, top_10_percent_idxs)\n",
    "\n",
    "    print(f'Jaccard Similarity: {len(intersection_all)/len(union_all)}')\n",
    "    print(f'Size of Union: {len(union_all)}')\n",
    "    print(f'Size of Intersection: {len(intersection_all)}')\n",
    "    \n",
    "    return top_10_percent_idxs, union_all, intersection_all"
   ]
  },
  {
   "cell_type": "code",
   "execution_count": 8,
   "id": "37b68b28-f447-4700-a37c-e3405389c2f6",
   "metadata": {},
   "outputs": [],
   "source": [
    "def bottom_x_percent_per_label(merged_df, percent):\n",
    "    l2_columns = [col for col in merged_df.columns if col.startswith('dist_')]\n",
    "\n",
    "    # List to store the final output\n",
    "    bottom_10_percent_idxs = []\n",
    "    quant = 1 - percent\n",
    "    \n",
    "    for col in l2_columns:\n",
    "        bottom_idxs = []\n",
    "        for label in merged_df['labels'].unique():\n",
    "            subset = merged_df[merged_df['labels'] == label]\n",
    "            threshold = subset[col].quantile(percent)\n",
    "            idxs = subset[subset[col] <= threshold]['idx'].to_numpy()\n",
    "            bottom_idxs.append(idxs)\n",
    "        \n",
    "        # Combine all labels' top idxs into a single array (e.g., union)\n",
    "        combined = np.unique(np.concatenate(bottom_idxs))\n",
    "        bottom_10_percent_idxs.append(combined)\n",
    "\n",
    "    union_all = reduce(np.union1d, bottom_10_percent_idxs)\n",
    "    intersection_all = reduce(np.intersect1d, bottom_10_percent_idxs)\n",
    "\n",
    "    print(f'Jaccard Similarity: {len(intersection_all)/len(union_all)}')\n",
    "    print(f'Size of Union: {len(union_all)}')\n",
    "    print(f'Size of Intersection: {len(intersection_all)}')\n",
    "    \n",
    "    return bottom_10_percent_idxs, union_all, intersection_all"
   ]
  },
  {
   "cell_type": "markdown",
   "id": "fffa2ccf-415c-4128-a5d1-8389f5b4cafd",
   "metadata": {},
   "source": [
    "# CIFAR 1k Total Train Samples ResNet18"
   ]
  },
  {
   "cell_type": "code",
   "execution_count": 3,
   "id": "a23f7443-5ac4-4b2e-827d-bc2341f8eaa0",
   "metadata": {},
   "outputs": [],
   "source": [
    "paths = [f'class_means_distance/sanity_no_shuffle_data_cifar10_1k_resnet18_seed_{x}_iter_0_max_epochs_400/train/train_raw_activations_epoch_' for x in [515,650,713]]"
   ]
  },
  {
   "cell_type": "markdown",
   "id": "f9c6cc2a-b38c-4014-8537-15035e7d0ecf",
   "metadata": {},
   "source": [
    "## Look at Class Means Across Seeds (Epoch 355)"
   ]
  },
  {
   "cell_type": "markdown",
   "id": "11fc2f3e-8512-459f-8500-eb68c0285cfa",
   "metadata": {},
   "source": [
    "### Unnormalized L2"
   ]
  },
  {
   "cell_type": "code",
   "execution_count": 4,
   "id": "0c55fe2f-e681-466b-a07b-e6738f4cb462",
   "metadata": {},
   "outputs": [],
   "source": [
    "epoch = 355\n",
    "merged_df = process_merge(paths, epoch)"
   ]
  },
  {
   "cell_type": "code",
   "execution_count": 5,
   "id": "a6e81207-3daf-49ff-a7b8-9e42200475a2",
   "metadata": {},
   "outputs": [
    {
     "name": "stdout",
     "output_type": "stream",
     "text": [
      "Jaccard Similarity: 0.09174311926605505\n",
      "Size of Union: 218\n",
      "Size of Intersection: 20\n"
     ]
    }
   ],
   "source": [
    "top_10_percent_idxs, union_all, intersection_all = top_x_percent_per_label(merged_df, 0.1)"
   ]
  },
  {
   "cell_type": "code",
   "execution_count": 6,
   "id": "153a1f60-ca9c-4133-aead-08927ce089d0",
   "metadata": {},
   "outputs": [
    {
     "name": "stdout",
     "output_type": "stream",
     "text": [
      "Jaccard Similarity: 0.02032520325203252\n",
      "Size of Union: 246\n",
      "Size of Intersection: 5\n"
     ]
    }
   ],
   "source": [
    "bottom_10_percent_idxs, union_all, intersection_all = bottom_x_percent_per_label(merged_df, 0.1)"
   ]
  },
  {
   "cell_type": "markdown",
   "id": "36fd90ee-617a-40ed-94c7-dd0a7635794b",
   "metadata": {},
   "source": [
    "### Unnormalized Cos"
   ]
  },
  {
   "cell_type": "code",
   "execution_count": 7,
   "id": "f2d94cc1-9c50-4f86-9549-4dd336853530",
   "metadata": {},
   "outputs": [],
   "source": [
    "epoch = 355\n",
    "merged_df = process_merge(paths, epoch, distance_metric = 'cosine')"
   ]
  },
  {
   "cell_type": "code",
   "execution_count": 8,
   "id": "33c44300-e5a1-4a06-a98a-7354bc47e8c7",
   "metadata": {},
   "outputs": [
    {
     "name": "stdout",
     "output_type": "stream",
     "text": [
      "Jaccard Similarity: 0.12376237623762376\n",
      "Size of Union: 202\n",
      "Size of Intersection: 25\n"
     ]
    }
   ],
   "source": [
    "top_10_percent_idxs, union_all, intersection_all = top_x_percent_per_label(merged_df, 0.1)"
   ]
  },
  {
   "cell_type": "code",
   "execution_count": 9,
   "id": "b5a92e23-ebf4-45a3-a6bc-9ca4423fcc78",
   "metadata": {},
   "outputs": [
    {
     "name": "stdout",
     "output_type": "stream",
     "text": [
      "Jaccard Similarity: 0.07476635514018691\n",
      "Size of Union: 214\n",
      "Size of Intersection: 16\n"
     ]
    }
   ],
   "source": [
    "bottom_10_percent_idxs, union_all, intersection_all = bottom_x_percent_per_label(merged_df, 0.1)"
   ]
  },
  {
   "cell_type": "markdown",
   "id": "29881ea1-fc05-4996-963f-b297bd1e22ec",
   "metadata": {},
   "source": [
    "# CIFAR 2 Classes (Vehicle vs Animal) Resnet"
   ]
  },
  {
   "cell_type": "code",
   "execution_count": 10,
   "id": "f0a73e62-35a8-4fb3-8a1b-83631d18b49f",
   "metadata": {},
   "outputs": [],
   "source": [
    "paths = [f'class_means_distance/sanity_no_shuffle_data_cifar10_2class_resnet18_seed_{x}_iter_0_max_epochs_400/train/train_raw_activations_epoch_' for x in [515,650,713]]"
   ]
  },
  {
   "cell_type": "markdown",
   "id": "fe326180-7d4d-40cf-b3b9-d822bdc57bbe",
   "metadata": {},
   "source": [
    "## Look at Class Means Across Seeds (Epoch 355)"
   ]
  },
  {
   "cell_type": "markdown",
   "id": "c9709fc2-5143-4b8d-a550-05b51ddee1a2",
   "metadata": {},
   "source": [
    "### Unnormalized L2"
   ]
  },
  {
   "cell_type": "code",
   "execution_count": 11,
   "id": "ea2b8dfe-755b-4811-b039-8933820f27ec",
   "metadata": {},
   "outputs": [],
   "source": [
    "epoch = 355\n",
    "merged_df = process_merge(paths, epoch)"
   ]
  },
  {
   "cell_type": "code",
   "execution_count": 12,
   "id": "266684dc-87dc-44c4-958b-f19ffb1e5bcf",
   "metadata": {},
   "outputs": [
    {
     "name": "stdout",
     "output_type": "stream",
     "text": [
      "Jaccard Similarity: 0.13083071941718102\n",
      "Size of Union: 9883\n",
      "Size of Intersection: 1293\n"
     ]
    }
   ],
   "source": [
    "top_10_percent_idxs, union_all, intersection_all = top_x_percent_per_label(merged_df, 0.1)"
   ]
  },
  {
   "cell_type": "code",
   "execution_count": 13,
   "id": "f91fe108-7306-47eb-b11d-d71233767f35",
   "metadata": {},
   "outputs": [
    {
     "name": "stdout",
     "output_type": "stream",
     "text": [
      "Jaccard Similarity: 0.02896746347941567\n",
      "Size of Union: 12048\n",
      "Size of Intersection: 349\n"
     ]
    }
   ],
   "source": [
    "bottom_10_percent_idxs, union_all, intersection_all = bottom_x_percent_per_label(merged_df, 0.1)"
   ]
  },
  {
   "cell_type": "markdown",
   "id": "d92bef81-a069-4349-9a5b-81406a406e2f",
   "metadata": {},
   "source": [
    "### Unnormalized Cos"
   ]
  },
  {
   "cell_type": "code",
   "execution_count": 14,
   "id": "3a0c3ec2-a676-4379-aad4-fe182f30d0bd",
   "metadata": {},
   "outputs": [],
   "source": [
    "epoch = 355\n",
    "merged_df = process_merge(paths, epoch, distance_metric = 'cosine')"
   ]
  },
  {
   "cell_type": "code",
   "execution_count": 15,
   "id": "d145b4cf-6745-4ae5-887c-ba8b0302ef17",
   "metadata": {},
   "outputs": [
    {
     "name": "stdout",
     "output_type": "stream",
     "text": [
      "Jaccard Similarity: 0.10944438961807955\n",
      "Size of Union: 10133\n",
      "Size of Intersection: 1109\n"
     ]
    }
   ],
   "source": [
    "top_10_percent_idxs, union_all, intersection_all = top_x_percent_per_label(merged_df, 0.1)"
   ]
  },
  {
   "cell_type": "code",
   "execution_count": 16,
   "id": "bd7e7d76-8bb3-4b76-9c30-d719ae58b4d8",
   "metadata": {},
   "outputs": [
    {
     "name": "stdout",
     "output_type": "stream",
     "text": [
      "Jaccard Similarity: 0.15636942675159235\n",
      "Size of Union: 9420\n",
      "Size of Intersection: 1473\n"
     ]
    }
   ],
   "source": [
    "bottom_10_percent_idxs, union_all, intersection_all = bottom_x_percent_per_label(merged_df, 0.1)"
   ]
  },
  {
   "cell_type": "markdown",
   "id": "923b603b-7f94-41ee-b50e-c296210c25f8",
   "metadata": {},
   "source": [
    "# CIFAR Label Chance Resnet18"
   ]
  },
  {
   "cell_type": "code",
   "execution_count": 17,
   "id": "58714bad-3fbc-4b8c-a3e4-1cf3abd47fa9",
   "metadata": {},
   "outputs": [],
   "source": [
    "paths = [f'class_means_distance/sanity_no_shuffle_data_cifar10_label_change_resnet18_seed_{x}_iter_0_max_epochs_400/train/train_raw_activations_epoch_' for x in [515,650,713]]"
   ]
  },
  {
   "cell_type": "markdown",
   "id": "7ab8b2db-d9d0-4bc3-937e-1bf39938acee",
   "metadata": {},
   "source": [
    "## Look at Class Means Across Seeds (Epoch 355)"
   ]
  },
  {
   "cell_type": "markdown",
   "id": "f6a18186-4a65-4483-92e9-bbf5e1cb9fae",
   "metadata": {},
   "source": [
    "### Unnormalized L2"
   ]
  },
  {
   "cell_type": "code",
   "execution_count": 18,
   "id": "d7be095b-5dfd-4942-aac4-d1d618142a26",
   "metadata": {},
   "outputs": [],
   "source": [
    "epoch = 355\n",
    "merged_df = process_merge(paths, epoch)"
   ]
  },
  {
   "cell_type": "code",
   "execution_count": 19,
   "id": "54d4a8e2-fb49-45b0-bf20-449c80cedded",
   "metadata": {},
   "outputs": [
    {
     "name": "stdout",
     "output_type": "stream",
     "text": [
      "Jaccard Similarity: 0.054776626317164505\n",
      "Size of Union: 11483\n",
      "Size of Intersection: 629\n"
     ]
    }
   ],
   "source": [
    "top_10_percent_idxs, union_all, intersection_all = top_x_percent_per_label(merged_df, 0.1)"
   ]
  },
  {
   "cell_type": "code",
   "execution_count": 20,
   "id": "5596e9bd-832f-4ca5-8429-b254765861a3",
   "metadata": {},
   "outputs": [
    {
     "name": "stdout",
     "output_type": "stream",
     "text": [
      "Index 9749 in Intersection: False\n",
      "Index 28898 in Intersection: False\n",
      "Index 49412 in Intersection: False\n",
      "Index 9282 in Intersection: False\n",
      "Index 36567 in Intersection: False\n",
      "Index 4740 in Intersection: False\n",
      "Index 39328 in Intersection: False\n",
      "Index 16927 in Intersection: False\n",
      "Index 44496 in Intersection: False\n",
      "Index 2688 in Intersection: False\n"
     ]
    }
   ],
   "source": [
    "for changed_idx in [9749, 28898, 49412, 9282, 36567, 4740, 39328, 16927, 44496, 2688]:\n",
    "    print(f'Index {changed_idx} in Intersection: {changed_idx in intersection_all}')"
   ]
  },
  {
   "cell_type": "code",
   "execution_count": 22,
   "id": "81f0acc8-ff2f-4356-b3db-f3a2c0011e96",
   "metadata": {},
   "outputs": [
    {
     "name": "stdout",
     "output_type": "stream",
     "text": [
      "Index 9749 in Union: False\n",
      "Index 28898 in Union: False\n",
      "Index 49412 in Union: True\n",
      "Index 9282 in Union: False\n",
      "Index 36567 in Union: True\n",
      "Index 4740 in Union: False\n",
      "Index 39328 in Union: True\n",
      "Index 16927 in Union: False\n",
      "Index 44496 in Union: True\n",
      "Index 2688 in Union: False\n"
     ]
    }
   ],
   "source": [
    "for changed_idx in [9749, 28898, 49412, 9282, 36567, 4740, 39328, 16927, 44496, 2688]:\n",
    "    print(f'Index {changed_idx} in Union: {changed_idx in union_all}')"
   ]
  },
  {
   "cell_type": "code",
   "execution_count": 23,
   "id": "685e34f9-a26d-400f-b293-61295fe33e29",
   "metadata": {},
   "outputs": [
    {
     "name": "stdout",
     "output_type": "stream",
     "text": [
      "Jaccard Similarity: 0.020079025885009275\n",
      "Size of Union: 12401\n",
      "Size of Intersection: 249\n"
     ]
    }
   ],
   "source": [
    "bottom_10_percent_idxs, union_all, intersection_all = bottom_x_percent_per_label(merged_df, 0.1)"
   ]
  },
  {
   "cell_type": "code",
   "execution_count": 24,
   "id": "248f5a09-c0a8-477e-8316-6709d0c5994f",
   "metadata": {},
   "outputs": [
    {
     "name": "stdout",
     "output_type": "stream",
     "text": [
      "Index 9749 in Intersection: False\n",
      "Index 28898 in Intersection: False\n",
      "Index 49412 in Intersection: False\n",
      "Index 9282 in Intersection: False\n",
      "Index 36567 in Intersection: False\n",
      "Index 4740 in Intersection: False\n",
      "Index 39328 in Intersection: False\n",
      "Index 16927 in Intersection: False\n",
      "Index 44496 in Intersection: False\n",
      "Index 2688 in Intersection: False\n"
     ]
    }
   ],
   "source": [
    "for changed_idx in [9749, 28898, 49412, 9282, 36567, 4740, 39328, 16927, 44496, 2688]:\n",
    "    print(f'Index {changed_idx} in Intersection: {changed_idx in intersection_all}')"
   ]
  },
  {
   "cell_type": "code",
   "execution_count": 25,
   "id": "d38fa917-3867-4f4b-99dd-25e0dc5661d0",
   "metadata": {},
   "outputs": [
    {
     "name": "stdout",
     "output_type": "stream",
     "text": [
      "Index 9749 in Union: False\n",
      "Index 28898 in Union: False\n",
      "Index 49412 in Union: False\n",
      "Index 9282 in Union: False\n",
      "Index 36567 in Union: True\n",
      "Index 4740 in Union: False\n",
      "Index 39328 in Union: False\n",
      "Index 16927 in Union: False\n",
      "Index 44496 in Union: False\n",
      "Index 2688 in Union: False\n"
     ]
    }
   ],
   "source": [
    "for changed_idx in [9749, 28898, 49412, 9282, 36567, 4740, 39328, 16927, 44496, 2688]:\n",
    "    print(f'Index {changed_idx} in Union: {changed_idx in union_all}')"
   ]
  },
  {
   "cell_type": "code",
   "execution_count": 26,
   "id": "04098116-8af4-4850-bfe8-4e2edbe0bf24",
   "metadata": {},
   "outputs": [
    {
     "data": {
      "text/html": [
       "<div>\n",
       "<style scoped>\n",
       "    .dataframe tbody tr th:only-of-type {\n",
       "        vertical-align: middle;\n",
       "    }\n",
       "\n",
       "    .dataframe tbody tr th {\n",
       "        vertical-align: top;\n",
       "    }\n",
       "\n",
       "    .dataframe thead th {\n",
       "        text-align: right;\n",
       "    }\n",
       "</style>\n",
       "<table border=\"1\" class=\"dataframe\">\n",
       "  <thead>\n",
       "    <tr style=\"text-align: right;\">\n",
       "      <th></th>\n",
       "      <th>dist_0</th>\n",
       "      <th>labels</th>\n",
       "      <th>idx</th>\n",
       "      <th>y_hats_0</th>\n",
       "      <th>dist_1</th>\n",
       "      <th>y_hats_1</th>\n",
       "      <th>dist_2</th>\n",
       "      <th>y_hats_2</th>\n",
       "    </tr>\n",
       "  </thead>\n",
       "  <tbody>\n",
       "    <tr>\n",
       "      <th>2688</th>\n",
       "      <td>26.927023</td>\n",
       "      <td>2.0</td>\n",
       "      <td>2688.0</td>\n",
       "      <td>2.0</td>\n",
       "      <td>27.282066</td>\n",
       "      <td>2.0</td>\n",
       "      <td>29.584230</td>\n",
       "      <td>2.0</td>\n",
       "    </tr>\n",
       "    <tr>\n",
       "      <th>4740</th>\n",
       "      <td>30.494396</td>\n",
       "      <td>0.0</td>\n",
       "      <td>4740.0</td>\n",
       "      <td>0.0</td>\n",
       "      <td>29.411949</td>\n",
       "      <td>0.0</td>\n",
       "      <td>31.859819</td>\n",
       "      <td>0.0</td>\n",
       "    </tr>\n",
       "    <tr>\n",
       "      <th>9282</th>\n",
       "      <td>29.290165</td>\n",
       "      <td>3.0</td>\n",
       "      <td>9282.0</td>\n",
       "      <td>3.0</td>\n",
       "      <td>29.947004</td>\n",
       "      <td>3.0</td>\n",
       "      <td>27.852316</td>\n",
       "      <td>3.0</td>\n",
       "    </tr>\n",
       "    <tr>\n",
       "      <th>9749</th>\n",
       "      <td>32.424957</td>\n",
       "      <td>5.0</td>\n",
       "      <td>9749.0</td>\n",
       "      <td>5.0</td>\n",
       "      <td>28.669069</td>\n",
       "      <td>5.0</td>\n",
       "      <td>28.992195</td>\n",
       "      <td>5.0</td>\n",
       "    </tr>\n",
       "    <tr>\n",
       "      <th>16927</th>\n",
       "      <td>28.671465</td>\n",
       "      <td>5.0</td>\n",
       "      <td>16927.0</td>\n",
       "      <td>5.0</td>\n",
       "      <td>28.765451</td>\n",
       "      <td>5.0</td>\n",
       "      <td>30.716932</td>\n",
       "      <td>5.0</td>\n",
       "    </tr>\n",
       "    <tr>\n",
       "      <th>28898</th>\n",
       "      <td>29.686842</td>\n",
       "      <td>6.0</td>\n",
       "      <td>28898.0</td>\n",
       "      <td>6.0</td>\n",
       "      <td>28.213039</td>\n",
       "      <td>6.0</td>\n",
       "      <td>27.726608</td>\n",
       "      <td>6.0</td>\n",
       "    </tr>\n",
       "    <tr>\n",
       "      <th>36567</th>\n",
       "      <td>28.830286</td>\n",
       "      <td>5.0</td>\n",
       "      <td>36567.0</td>\n",
       "      <td>5.0</td>\n",
       "      <td>25.062857</td>\n",
       "      <td>5.0</td>\n",
       "      <td>33.718384</td>\n",
       "      <td>5.0</td>\n",
       "    </tr>\n",
       "    <tr>\n",
       "      <th>39328</th>\n",
       "      <td>29.588921</td>\n",
       "      <td>9.0</td>\n",
       "      <td>39328.0</td>\n",
       "      <td>9.0</td>\n",
       "      <td>33.928448</td>\n",
       "      <td>9.0</td>\n",
       "      <td>31.063854</td>\n",
       "      <td>9.0</td>\n",
       "    </tr>\n",
       "    <tr>\n",
       "      <th>44496</th>\n",
       "      <td>29.698242</td>\n",
       "      <td>1.0</td>\n",
       "      <td>44496.0</td>\n",
       "      <td>1.0</td>\n",
       "      <td>31.317736</td>\n",
       "      <td>1.0</td>\n",
       "      <td>35.274971</td>\n",
       "      <td>1.0</td>\n",
       "    </tr>\n",
       "    <tr>\n",
       "      <th>49412</th>\n",
       "      <td>29.557550</td>\n",
       "      <td>9.0</td>\n",
       "      <td>49412.0</td>\n",
       "      <td>9.0</td>\n",
       "      <td>32.537693</td>\n",
       "      <td>9.0</td>\n",
       "      <td>32.055241</td>\n",
       "      <td>9.0</td>\n",
       "    </tr>\n",
       "  </tbody>\n",
       "</table>\n",
       "</div>"
      ],
      "text/plain": [
       "          dist_0  labels      idx  y_hats_0     dist_1  y_hats_1     dist_2  \\\n",
       "2688   26.927023     2.0   2688.0       2.0  27.282066       2.0  29.584230   \n",
       "4740   30.494396     0.0   4740.0       0.0  29.411949       0.0  31.859819   \n",
       "9282   29.290165     3.0   9282.0       3.0  29.947004       3.0  27.852316   \n",
       "9749   32.424957     5.0   9749.0       5.0  28.669069       5.0  28.992195   \n",
       "16927  28.671465     5.0  16927.0       5.0  28.765451       5.0  30.716932   \n",
       "28898  29.686842     6.0  28898.0       6.0  28.213039       6.0  27.726608   \n",
       "36567  28.830286     5.0  36567.0       5.0  25.062857       5.0  33.718384   \n",
       "39328  29.588921     9.0  39328.0       9.0  33.928448       9.0  31.063854   \n",
       "44496  29.698242     1.0  44496.0       1.0  31.317736       1.0  35.274971   \n",
       "49412  29.557550     9.0  49412.0       9.0  32.537693       9.0  32.055241   \n",
       "\n",
       "       y_hats_2  \n",
       "2688        2.0  \n",
       "4740        0.0  \n",
       "9282        3.0  \n",
       "9749        5.0  \n",
       "16927       5.0  \n",
       "28898       6.0  \n",
       "36567       5.0  \n",
       "39328       9.0  \n",
       "44496       1.0  \n",
       "49412       9.0  "
      ]
     },
     "execution_count": 26,
     "metadata": {},
     "output_type": "execute_result"
    }
   ],
   "source": [
    "changed_idxs = [9749, 28898, 49412, 9282, 36567, 4740, 39328, 16927, 44496, 2688]\n",
    "merged_df[merged_df['idx'].isin(changed_idxs)]"
   ]
  },
  {
   "cell_type": "markdown",
   "id": "18f5973d-ea2d-41d9-bdd3-2ae5f8ea4eb1",
   "metadata": {},
   "source": [
    "### Unnormalized Cos"
   ]
  },
  {
   "cell_type": "code",
   "execution_count": 27,
   "id": "2e5caa6e-4418-4cc3-a598-8d695f808680",
   "metadata": {},
   "outputs": [],
   "source": [
    "epoch = 355\n",
    "merged_df = process_merge(paths, epoch, distance_metric = 'cosine')"
   ]
  },
  {
   "cell_type": "code",
   "execution_count": 28,
   "id": "13617420-15ef-41a4-a771-950761c244c3",
   "metadata": {},
   "outputs": [
    {
     "name": "stdout",
     "output_type": "stream",
     "text": [
      "Jaccard Similarity: 0.08595072409253339\n",
      "Size of Union: 10634\n",
      "Size of Intersection: 914\n"
     ]
    }
   ],
   "source": [
    "top_10_percent_idxs, union_all, intersection_all = top_x_percent_per_label(merged_df, 0.1)"
   ]
  },
  {
   "cell_type": "code",
   "execution_count": 29,
   "id": "bae41266-2efe-49ff-b546-4fde00b9b5b1",
   "metadata": {},
   "outputs": [
    {
     "name": "stdout",
     "output_type": "stream",
     "text": [
      "Index 9749 in Intersection: False\n",
      "Index 28898 in Intersection: False\n",
      "Index 49412 in Intersection: True\n",
      "Index 9282 in Intersection: False\n",
      "Index 36567 in Intersection: False\n",
      "Index 4740 in Intersection: True\n",
      "Index 39328 in Intersection: True\n",
      "Index 16927 in Intersection: False\n",
      "Index 44496 in Intersection: True\n",
      "Index 2688 in Intersection: False\n"
     ]
    }
   ],
   "source": [
    "for changed_idx in [9749, 28898, 49412, 9282, 36567, 4740, 39328, 16927, 44496, 2688]:\n",
    "    print(f'Index {changed_idx} in Intersection: {changed_idx in intersection_all}')"
   ]
  },
  {
   "cell_type": "code",
   "execution_count": 30,
   "id": "75e18457-3a0c-4fea-8c57-1f344a1db91a",
   "metadata": {},
   "outputs": [
    {
     "name": "stdout",
     "output_type": "stream",
     "text": [
      "Index 9749 in Union: False\n",
      "Index 28898 in Union: True\n",
      "Index 49412 in Union: True\n",
      "Index 9282 in Union: True\n",
      "Index 36567 in Union: False\n",
      "Index 4740 in Union: True\n",
      "Index 39328 in Union: True\n",
      "Index 16927 in Union: False\n",
      "Index 44496 in Union: True\n",
      "Index 2688 in Union: True\n"
     ]
    }
   ],
   "source": [
    "for changed_idx in [9749, 28898, 49412, 9282, 36567, 4740, 39328, 16927, 44496, 2688]:\n",
    "    print(f'Index {changed_idx} in Union: {changed_idx in union_all}')"
   ]
  },
  {
   "cell_type": "code",
   "execution_count": 31,
   "id": "c0576e58-3237-492c-874e-cb713b7b2a87",
   "metadata": {},
   "outputs": [
    {
     "name": "stdout",
     "output_type": "stream",
     "text": [
      "Jaccard Similarity: 0.07984755530767801\n",
      "Size of Union: 10758\n",
      "Size of Intersection: 859\n"
     ]
    }
   ],
   "source": [
    "bottom_10_percent_idxs, union_all, intersection_all = bottom_x_percent_per_label(merged_df, 0.1)"
   ]
  },
  {
   "cell_type": "code",
   "execution_count": 32,
   "id": "f1e003c4-82bb-4382-b0c5-d966e0416bac",
   "metadata": {},
   "outputs": [
    {
     "name": "stdout",
     "output_type": "stream",
     "text": [
      "Index 9749 in Intersection: False\n",
      "Index 28898 in Intersection: False\n",
      "Index 49412 in Intersection: False\n",
      "Index 9282 in Intersection: False\n",
      "Index 36567 in Intersection: False\n",
      "Index 4740 in Intersection: False\n",
      "Index 39328 in Intersection: False\n",
      "Index 16927 in Intersection: False\n",
      "Index 44496 in Intersection: False\n",
      "Index 2688 in Intersection: False\n"
     ]
    }
   ],
   "source": [
    "for changed_idx in [9749, 28898, 49412, 9282, 36567, 4740, 39328, 16927, 44496, 2688]:\n",
    "    print(f'Index {changed_idx} in Intersection: {changed_idx in intersection_all}')"
   ]
  },
  {
   "cell_type": "code",
   "execution_count": 33,
   "id": "784f06e8-6b6e-4cf7-b9ae-d9f4dc5c7fb1",
   "metadata": {},
   "outputs": [
    {
     "name": "stdout",
     "output_type": "stream",
     "text": [
      "Index 9749 in Union: False\n",
      "Index 28898 in Union: False\n",
      "Index 49412 in Union: False\n",
      "Index 9282 in Union: False\n",
      "Index 36567 in Union: False\n",
      "Index 4740 in Union: False\n",
      "Index 39328 in Union: False\n",
      "Index 16927 in Union: False\n",
      "Index 44496 in Union: False\n",
      "Index 2688 in Union: False\n"
     ]
    }
   ],
   "source": [
    "for changed_idx in [9749, 28898, 49412, 9282, 36567, 4740, 39328, 16927, 44496, 2688]:\n",
    "    print(f'Index {changed_idx} in Union: {changed_idx in union_all}')"
   ]
  },
  {
   "cell_type": "code",
   "execution_count": 34,
   "id": "42a445cc-084d-49d2-abdf-6b69b806ffe8",
   "metadata": {},
   "outputs": [
    {
     "data": {
      "text/html": [
       "<div>\n",
       "<style scoped>\n",
       "    .dataframe tbody tr th:only-of-type {\n",
       "        vertical-align: middle;\n",
       "    }\n",
       "\n",
       "    .dataframe tbody tr th {\n",
       "        vertical-align: top;\n",
       "    }\n",
       "\n",
       "    .dataframe thead th {\n",
       "        text-align: right;\n",
       "    }\n",
       "</style>\n",
       "<table border=\"1\" class=\"dataframe\">\n",
       "  <thead>\n",
       "    <tr style=\"text-align: right;\">\n",
       "      <th></th>\n",
       "      <th>dist_0</th>\n",
       "      <th>labels</th>\n",
       "      <th>idx</th>\n",
       "      <th>y_hats_0</th>\n",
       "      <th>dist_1</th>\n",
       "      <th>y_hats_1</th>\n",
       "      <th>dist_2</th>\n",
       "      <th>y_hats_2</th>\n",
       "    </tr>\n",
       "  </thead>\n",
       "  <tbody>\n",
       "    <tr>\n",
       "      <th>2688</th>\n",
       "      <td>0.683455</td>\n",
       "      <td>2.0</td>\n",
       "      <td>2688.0</td>\n",
       "      <td>2.0</td>\n",
       "      <td>0.568842</td>\n",
       "      <td>2.0</td>\n",
       "      <td>0.714764</td>\n",
       "      <td>2.0</td>\n",
       "    </tr>\n",
       "    <tr>\n",
       "      <th>4740</th>\n",
       "      <td>0.741977</td>\n",
       "      <td>0.0</td>\n",
       "      <td>4740.0</td>\n",
       "      <td>0.0</td>\n",
       "      <td>0.785641</td>\n",
       "      <td>0.0</td>\n",
       "      <td>0.764125</td>\n",
       "      <td>0.0</td>\n",
       "    </tr>\n",
       "    <tr>\n",
       "      <th>9282</th>\n",
       "      <td>0.666783</td>\n",
       "      <td>3.0</td>\n",
       "      <td>9282.0</td>\n",
       "      <td>3.0</td>\n",
       "      <td>0.779143</td>\n",
       "      <td>3.0</td>\n",
       "      <td>0.695057</td>\n",
       "      <td>3.0</td>\n",
       "    </tr>\n",
       "    <tr>\n",
       "      <th>9749</th>\n",
       "      <td>0.658805</td>\n",
       "      <td>5.0</td>\n",
       "      <td>9749.0</td>\n",
       "      <td>5.0</td>\n",
       "      <td>0.622609</td>\n",
       "      <td>5.0</td>\n",
       "      <td>0.559387</td>\n",
       "      <td>5.0</td>\n",
       "    </tr>\n",
       "    <tr>\n",
       "      <th>16927</th>\n",
       "      <td>0.581304</td>\n",
       "      <td>5.0</td>\n",
       "      <td>16927.0</td>\n",
       "      <td>5.0</td>\n",
       "      <td>0.631494</td>\n",
       "      <td>5.0</td>\n",
       "      <td>0.626594</td>\n",
       "      <td>5.0</td>\n",
       "    </tr>\n",
       "    <tr>\n",
       "      <th>28898</th>\n",
       "      <td>0.711015</td>\n",
       "      <td>6.0</td>\n",
       "      <td>28898.0</td>\n",
       "      <td>6.0</td>\n",
       "      <td>0.726841</td>\n",
       "      <td>6.0</td>\n",
       "      <td>0.645662</td>\n",
       "      <td>6.0</td>\n",
       "    </tr>\n",
       "    <tr>\n",
       "      <th>36567</th>\n",
       "      <td>0.563574</td>\n",
       "      <td>5.0</td>\n",
       "      <td>36567.0</td>\n",
       "      <td>5.0</td>\n",
       "      <td>0.547170</td>\n",
       "      <td>5.0</td>\n",
       "      <td>0.550981</td>\n",
       "      <td>5.0</td>\n",
       "    </tr>\n",
       "    <tr>\n",
       "      <th>39328</th>\n",
       "      <td>0.635402</td>\n",
       "      <td>9.0</td>\n",
       "      <td>39328.0</td>\n",
       "      <td>9.0</td>\n",
       "      <td>0.694663</td>\n",
       "      <td>9.0</td>\n",
       "      <td>0.722221</td>\n",
       "      <td>9.0</td>\n",
       "    </tr>\n",
       "    <tr>\n",
       "      <th>44496</th>\n",
       "      <td>0.650794</td>\n",
       "      <td>1.0</td>\n",
       "      <td>44496.0</td>\n",
       "      <td>1.0</td>\n",
       "      <td>0.656589</td>\n",
       "      <td>1.0</td>\n",
       "      <td>0.702334</td>\n",
       "      <td>1.0</td>\n",
       "    </tr>\n",
       "    <tr>\n",
       "      <th>49412</th>\n",
       "      <td>0.703564</td>\n",
       "      <td>9.0</td>\n",
       "      <td>49412.0</td>\n",
       "      <td>9.0</td>\n",
       "      <td>0.691691</td>\n",
       "      <td>9.0</td>\n",
       "      <td>0.666334</td>\n",
       "      <td>9.0</td>\n",
       "    </tr>\n",
       "  </tbody>\n",
       "</table>\n",
       "</div>"
      ],
      "text/plain": [
       "         dist_0  labels      idx  y_hats_0    dist_1  y_hats_1    dist_2  \\\n",
       "2688   0.683455     2.0   2688.0       2.0  0.568842       2.0  0.714764   \n",
       "4740   0.741977     0.0   4740.0       0.0  0.785641       0.0  0.764125   \n",
       "9282   0.666783     3.0   9282.0       3.0  0.779143       3.0  0.695057   \n",
       "9749   0.658805     5.0   9749.0       5.0  0.622609       5.0  0.559387   \n",
       "16927  0.581304     5.0  16927.0       5.0  0.631494       5.0  0.626594   \n",
       "28898  0.711015     6.0  28898.0       6.0  0.726841       6.0  0.645662   \n",
       "36567  0.563574     5.0  36567.0       5.0  0.547170       5.0  0.550981   \n",
       "39328  0.635402     9.0  39328.0       9.0  0.694663       9.0  0.722221   \n",
       "44496  0.650794     1.0  44496.0       1.0  0.656589       1.0  0.702334   \n",
       "49412  0.703564     9.0  49412.0       9.0  0.691691       9.0  0.666334   \n",
       "\n",
       "       y_hats_2  \n",
       "2688        2.0  \n",
       "4740        0.0  \n",
       "9282        3.0  \n",
       "9749        5.0  \n",
       "16927       5.0  \n",
       "28898       6.0  \n",
       "36567       5.0  \n",
       "39328       9.0  \n",
       "44496       1.0  \n",
       "49412       9.0  "
      ]
     },
     "execution_count": 34,
     "metadata": {},
     "output_type": "execute_result"
    }
   ],
   "source": [
    "changed_idxs = [9749, 28898, 49412, 9282, 36567, 4740, 39328, 16927, 44496, 2688]\n",
    "merged_df[merged_df['idx'].isin(changed_idxs)]"
   ]
  }
 ],
 "metadata": {
  "kernelspec": {
   "display_name": "Python 3 (ipykernel)",
   "language": "python",
   "name": "python3"
  },
  "language_info": {
   "codemirror_mode": {
    "name": "ipython",
    "version": 3
   },
   "file_extension": ".py",
   "mimetype": "text/x-python",
   "name": "python",
   "nbconvert_exporter": "python",
   "pygments_lexer": "ipython3",
   "version": "3.12.8"
  }
 },
 "nbformat": 4,
 "nbformat_minor": 5
}
